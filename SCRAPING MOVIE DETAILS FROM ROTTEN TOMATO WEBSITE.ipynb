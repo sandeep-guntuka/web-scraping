{
 "cells": [
  {
   "cell_type": "code",
   "execution_count": 1,
   "metadata": {},
   "outputs": [],
   "source": [
    "import requests\n",
    "from bs4 import BeautifulSoup"
   ]
  },
  {
   "cell_type": "code",
   "execution_count": 2,
   "metadata": {},
   "outputs": [],
   "source": [
    "base_site=\"https://editorial.rottentomatoes.com/guide/140-essential-action-movies-to-watch-now/2/\""
   ]
  },
  {
   "cell_type": "code",
   "execution_count": 3,
   "metadata": {},
   "outputs": [],
   "source": [
    "response=requests.get(base_site)"
   ]
  },
  {
   "cell_type": "code",
   "execution_count": 4,
   "metadata": {},
   "outputs": [
    {
     "data": {
      "text/plain": [
       "200"
      ]
     },
     "execution_count": 4,
     "metadata": {},
     "output_type": "execute_result"
    }
   ],
   "source": [
    "response.status_code"
   ]
  },
  {
   "cell_type": "code",
   "execution_count": 5,
   "metadata": {
    "scrolled": true
   },
   "outputs": [],
   "source": [
    "html=response.content\n",
    "#html"
   ]
  },
  {
   "cell_type": "code",
   "execution_count": 6,
   "metadata": {
    "scrolled": true
   },
   "outputs": [],
   "source": [
    "soup=BeautifulSoup(html,'html.parser')\n",
    "#soup"
   ]
  },
  {
   "cell_type": "code",
   "execution_count": 7,
   "metadata": {},
   "outputs": [],
   "source": [
    "titles=soup.find_all('div',class_=\"article_movie_title\")\n",
    "#titles"
   ]
  },
  {
   "cell_type": "code",
   "execution_count": 8,
   "metadata": {},
   "outputs": [
    {
     "data": {
      "text/plain": [
       "<div class=\"article_movie_title\" style=\"float: left;\">\n",
       "<div><h2><a href=\"https://www.rottentomatoes.com/m/1018009-running_scared/\">Running Scared</a> <span class=\"subtle start-year\">(1986)</span> <span class=\"icon tiny rotten\" title=\"Rotten\"></span> <span class=\"tMeterScore\">57%</span></h2></div>\n",
       "</div>"
      ]
     },
     "execution_count": 8,
     "metadata": {},
     "output_type": "execute_result"
    }
   ],
   "source": [
    "titles[0]"
   ]
  },
  {
   "cell_type": "code",
   "execution_count": 9,
   "metadata": {},
   "outputs": [],
   "source": [
    "names=[l.find('a').text for l in titles]\n",
    "#names\n",
    "#len(names)"
   ]
  },
  {
   "cell_type": "code",
   "execution_count": 10,
   "metadata": {
    "scrolled": true
   },
   "outputs": [],
   "source": [
    "years=[int(l.find('span').text.strip('()')) for l in titles]\n",
    "#years"
   ]
  },
  {
   "cell_type": "code",
   "execution_count": 11,
   "metadata": {},
   "outputs": [],
   "source": [
    "rate=[int(l.find('span',class_='tMeterScore').text.strip('%')) for l in titles]\n",
    "#rate"
   ]
  },
  {
   "cell_type": "code",
   "execution_count": 12,
   "metadata": {},
   "outputs": [],
   "source": [
    "import pandas as pd"
   ]
  },
  {
   "cell_type": "code",
   "execution_count": 13,
   "metadata": {},
   "outputs": [],
   "source": [
    "df=pd.DataFrame()\n",
    "df['names']=names\n",
    "df['year']=years\n",
    "df['rating']=rate\n"
   ]
  },
  {
   "cell_type": "code",
   "execution_count": 14,
   "metadata": {},
   "outputs": [
    {
     "data": {
      "text/html": [
       "<div>\n",
       "<style scoped>\n",
       "    .dataframe tbody tr th:only-of-type {\n",
       "        vertical-align: middle;\n",
       "    }\n",
       "\n",
       "    .dataframe tbody tr th {\n",
       "        vertical-align: top;\n",
       "    }\n",
       "\n",
       "    .dataframe thead th {\n",
       "        text-align: right;\n",
       "    }\n",
       "</style>\n",
       "<table border=\"1\" class=\"dataframe\">\n",
       "  <thead>\n",
       "    <tr style=\"text-align: right;\">\n",
       "      <th></th>\n",
       "      <th>names</th>\n",
       "      <th>year</th>\n",
       "      <th>rating</th>\n",
       "    </tr>\n",
       "  </thead>\n",
       "  <tbody>\n",
       "    <tr>\n",
       "      <th>0</th>\n",
       "      <td>Running Scared</td>\n",
       "      <td>1986</td>\n",
       "      <td>57</td>\n",
       "    </tr>\n",
       "    <tr>\n",
       "      <th>1</th>\n",
       "      <td>Equilibrium</td>\n",
       "      <td>2002</td>\n",
       "      <td>41</td>\n",
       "    </tr>\n",
       "    <tr>\n",
       "      <th>2</th>\n",
       "      <td>Hero</td>\n",
       "      <td>2004</td>\n",
       "      <td>94</td>\n",
       "    </tr>\n",
       "    <tr>\n",
       "      <th>3</th>\n",
       "      <td>Road House</td>\n",
       "      <td>1989</td>\n",
       "      <td>37</td>\n",
       "    </tr>\n",
       "    <tr>\n",
       "      <th>4</th>\n",
       "      <td>Unstoppable</td>\n",
       "      <td>2010</td>\n",
       "      <td>87</td>\n",
       "    </tr>\n",
       "    <tr>\n",
       "      <th>...</th>\n",
       "      <td>...</td>\n",
       "      <td>...</td>\n",
       "      <td>...</td>\n",
       "    </tr>\n",
       "    <tr>\n",
       "      <th>135</th>\n",
       "      <td>Lat sau san taam (Hard-Boiled)</td>\n",
       "      <td>1992</td>\n",
       "      <td>94</td>\n",
       "    </tr>\n",
       "    <tr>\n",
       "      <th>136</th>\n",
       "      <td>The Matrix</td>\n",
       "      <td>1999</td>\n",
       "      <td>88</td>\n",
       "    </tr>\n",
       "    <tr>\n",
       "      <th>137</th>\n",
       "      <td>Terminator 2: Judgment Day</td>\n",
       "      <td>1991</td>\n",
       "      <td>93</td>\n",
       "    </tr>\n",
       "    <tr>\n",
       "      <th>138</th>\n",
       "      <td>Die Hard</td>\n",
       "      <td>1988</td>\n",
       "      <td>94</td>\n",
       "    </tr>\n",
       "    <tr>\n",
       "      <th>139</th>\n",
       "      <td>Mad Max: Fury Road</td>\n",
       "      <td>2015</td>\n",
       "      <td>97</td>\n",
       "    </tr>\n",
       "  </tbody>\n",
       "</table>\n",
       "<p>140 rows × 3 columns</p>\n",
       "</div>"
      ],
      "text/plain": [
       "                              names  year  rating\n",
       "0                    Running Scared  1986      57\n",
       "1                       Equilibrium  2002      41\n",
       "2                              Hero  2004      94\n",
       "3                        Road House  1989      37\n",
       "4                       Unstoppable  2010      87\n",
       "..                              ...   ...     ...\n",
       "135  Lat sau san taam (Hard-Boiled)  1992      94\n",
       "136                      The Matrix  1999      88\n",
       "137      Terminator 2: Judgment Day  1991      93\n",
       "138                        Die Hard  1988      94\n",
       "139              Mad Max: Fury Road  2015      97\n",
       "\n",
       "[140 rows x 3 columns]"
      ]
     },
     "execution_count": 14,
     "metadata": {},
     "output_type": "execute_result"
    }
   ],
   "source": [
    "df"
   ]
  },
  {
   "cell_type": "code",
   "execution_count": 15,
   "metadata": {},
   "outputs": [],
   "source": [
    "df.to_csv(\"list.csv\",index=False,header=True)"
   ]
  },
  {
   "cell_type": "code",
   "execution_count": 16,
   "metadata": {},
   "outputs": [
    {
     "name": "stdout",
     "output_type": "stream",
     "text": [
      "Requirement already satisfied: openpyxl in c:\\users\\sandeep\\appdata\\local\\programs\\python\\python39\\lib\\site-packages (3.0.7)\n",
      "Requirement already satisfied: et-xmlfile in c:\\users\\sandeep\\appdata\\local\\programs\\python\\python39\\lib\\site-packages (from openpyxl) (1.1.0)\n",
      "Note: you may need to restart the kernel to use updated packages.\n"
     ]
    },
    {
     "name": "stderr",
     "output_type": "stream",
     "text": [
      "WARNING: You are using pip version 20.2.3; however, version 21.1.2 is available.\n",
      "You should consider upgrading via the 'c:\\users\\sandeep\\appdata\\local\\programs\\python\\python39\\python.exe -m pip install --upgrade pip' command.\n"
     ]
    }
   ],
   "source": [
    "pip install openpyxl"
   ]
  },
  {
   "cell_type": "code",
   "execution_count": 17,
   "metadata": {},
   "outputs": [],
   "source": [
    "df.to_excel(\"list1.xlsx\",index=False,header=True)"
   ]
  },
  {
   "cell_type": "code",
   "execution_count": 18,
   "metadata": {},
   "outputs": [
    {
     "data": {
      "text/plain": [
       "140"
      ]
     },
     "execution_count": 18,
     "metadata": {},
     "output_type": "execute_result"
    }
   ],
   "source": [
    "info=soup.find_all('div',class_='info critics-consensus')\n",
    "len(info)"
   ]
  },
  {
   "cell_type": "code",
   "execution_count": 19,
   "metadata": {},
   "outputs": [
    {
     "data": {
      "text/plain": [
       "<div class=\"info critics-consensus\"><span class=\"descriptor\">Critics Consensus:</span> Running Scared struggles to strike a consistent balance between violent action and humor, but the chemistry between its well-matched leads keeps things entertaining.</div>"
      ]
     },
     "execution_count": 19,
     "metadata": {},
     "output_type": "execute_result"
    }
   ],
   "source": [
    "info[0]"
   ]
  },
  {
   "cell_type": "code",
   "execution_count": 20,
   "metadata": {},
   "outputs": [],
   "source": [
    "x=[l.text.strip('Critics Consensus: ') for l in info]\n",
    "#x"
   ]
  },
  {
   "cell_type": "code",
   "execution_count": 21,
   "metadata": {},
   "outputs": [
    {
     "data": {
      "text/plain": [
       "<div class=\"info synopsis\"><span class=\"descriptor\">Synopsis:</span> Distinguished by a sharp, witty dialogue between its two cop protagonists, Ray and Danny (Gregory Hines and Billy Crystal), this...<a class=\"\" data-pageheader=\"\" href=\"https://www.rottentomatoes.com/m/1018009-running_scared/\" target=\"_top\"> [More]</a></div>"
      ]
     },
     "execution_count": 21,
     "metadata": {},
     "output_type": "execute_result"
    }
   ],
   "source": [
    "syn=soup.find_all('div',class_='info synopsis')\n",
    "syn[0]"
   ]
  },
  {
   "cell_type": "code",
   "execution_count": 22,
   "metadata": {},
   "outputs": [],
   "source": [
    "y=[l.text.strip('Synopsis: ') for l in syn]\n",
    "#y"
   ]
  },
  {
   "cell_type": "code",
   "execution_count": 23,
   "metadata": {},
   "outputs": [
    {
     "data": {
      "text/plain": [
       "<div class=\"info cast\">\n",
       "<span class=\"descriptor\">Starring:</span> <a class=\"\" href=\"/celebrity/gregory_hines/\">Gregory Hines</a>, <a class=\"\" href=\"/celebrity/billy_crystal/\">Billy Crystal</a>, <a class=\"\" href=\"/celebrity/jimmy_smits/\">Jimmy Smits</a>, <a class=\"\" href=\"/celebrity/steven_bauer/\">Steven Bauer</a></div>"
      ]
     },
     "execution_count": 23,
     "metadata": {},
     "output_type": "execute_result"
    }
   ],
   "source": [
    "cast=soup.find_all('div',class_='info cast')\n",
    "cast[0]"
   ]
  },
  {
   "cell_type": "code",
   "execution_count": 24,
   "metadata": {},
   "outputs": [],
   "source": [
    "z=[l.text.strip('\\nStarring: ') for l in cast]\n",
    "#z"
   ]
  },
  {
   "cell_type": "code",
   "execution_count": 25,
   "metadata": {},
   "outputs": [
    {
     "data": {
      "text/plain": [
       "<div class=\"info director\">\n",
       "<span class=\"descriptor\">Directed By:</span> <a class=\"\" href=\"/celebrity/peter_hyams/\">Peter Hyams</a></div>"
      ]
     },
     "execution_count": 25,
     "metadata": {},
     "output_type": "execute_result"
    }
   ],
   "source": [
    "dire=soup.find_all('div',class_='info director')\n",
    "dire[0]"
   ]
  },
  {
   "cell_type": "code",
   "execution_count": 26,
   "metadata": {},
   "outputs": [],
   "source": [
    "w=[ l.text.strip('\\nDirected By:') for l in dire]\n",
    "#w"
   ]
  },
  {
   "cell_type": "code",
   "execution_count": 27,
   "metadata": {},
   "outputs": [
    {
     "data": {
      "text/html": [
       "<div>\n",
       "<style scoped>\n",
       "    .dataframe tbody tr th:only-of-type {\n",
       "        vertical-align: middle;\n",
       "    }\n",
       "\n",
       "    .dataframe tbody tr th {\n",
       "        vertical-align: top;\n",
       "    }\n",
       "\n",
       "    .dataframe thead th {\n",
       "        text-align: right;\n",
       "    }\n",
       "</style>\n",
       "<table border=\"1\" class=\"dataframe\">\n",
       "  <thead>\n",
       "    <tr style=\"text-align: right;\">\n",
       "      <th></th>\n",
       "      <th>names</th>\n",
       "      <th>year</th>\n",
       "      <th>rating</th>\n",
       "      <th>Critics Consensus:</th>\n",
       "      <th>Synopsis:</th>\n",
       "      <th>cast</th>\n",
       "      <th>director</th>\n",
       "    </tr>\n",
       "  </thead>\n",
       "  <tbody>\n",
       "    <tr>\n",
       "      <th>0</th>\n",
       "      <td>Running Scared</td>\n",
       "      <td>1986</td>\n",
       "      <td>57</td>\n",
       "      <td>Running Scared struggles to strike a consisten...</td>\n",
       "      <td>Distinguished by a sharp, witty dialogue betwe...</td>\n",
       "      <td>Gregory Hines, Billy Crystal, Jimmy Smits, Ste...</td>\n",
       "      <td>Peter Hyams</td>\n",
       "    </tr>\n",
       "    <tr>\n",
       "      <th>1</th>\n",
       "      <td>Equilibrium</td>\n",
       "      <td>2002</td>\n",
       "      <td>41</td>\n",
       "      <td>Equilibrium is a reheated mishmash of other sc...</td>\n",
       "      <td>In the nation of Libria, there is always peace...</td>\n",
       "      <td>Christian Bale, Emily Watson, Taye Diggs, Angu...</td>\n",
       "      <td>Kurt Wimm</td>\n",
       "    </tr>\n",
       "    <tr>\n",
       "      <th>2</th>\n",
       "      <td>Hero</td>\n",
       "      <td>2004</td>\n",
       "      <td>94</td>\n",
       "      <td>With death-defying action sequences and epic h...</td>\n",
       "      <td>Hero is two-time Academy Award nominee Zhang Y...</td>\n",
       "      <td>Jet Li, Tony Leung Chiu Wai, Maggie Cheung, Da...</td>\n",
       "      <td>Zhang Yimou</td>\n",
       "    </tr>\n",
       "    <tr>\n",
       "      <th>3</th>\n",
       "      <td>Road House</td>\n",
       "      <td>1989</td>\n",
       "      <td>37</td>\n",
       "      <td>Whether Road House is simply bad or so bad it'...</td>\n",
       "      <td>Dalton (Swayze) is a true gentleman with a deg...</td>\n",
       "      <td>Patrick Swayze, Kelly Lynch, Sam Elliott, Ben ...</td>\n",
       "      <td>Rowdy Herrington</td>\n",
       "    </tr>\n",
       "    <tr>\n",
       "      <th>4</th>\n",
       "      <td>Unstoppable</td>\n",
       "      <td>2010</td>\n",
       "      <td>87</td>\n",
       "      <td>As fast, loud, and relentless as the train at ...</td>\n",
       "      <td>In this action thriller from director Tony Sco...</td>\n",
       "      <td>Denzel Washington, Chris Pine, Rosario Dawson,...</td>\n",
       "      <td>Tony Sco</td>\n",
       "    </tr>\n",
       "    <tr>\n",
       "      <th>...</th>\n",
       "      <td>...</td>\n",
       "      <td>...</td>\n",
       "      <td>...</td>\n",
       "      <td>...</td>\n",
       "      <td>...</td>\n",
       "      <td>...</td>\n",
       "      <td>...</td>\n",
       "    </tr>\n",
       "    <tr>\n",
       "      <th>135</th>\n",
       "      <td>Lat sau san taam (Hard-Boiled)</td>\n",
       "      <td>1992</td>\n",
       "      <td>94</td>\n",
       "      <td>Boasting impactful action as well as surprisin...</td>\n",
       "      <td>Yun-Fat portrays a maverick, clarinet-playing ...</td>\n",
       "      <td>Yun-Fat Chow, Tony Leung Chiu Wai, Anthony Won...</td>\n",
       "      <td>John Woo</td>\n",
       "    </tr>\n",
       "    <tr>\n",
       "      <th>136</th>\n",
       "      <td>The Matrix</td>\n",
       "      <td>1999</td>\n",
       "      <td>88</td>\n",
       "      <td>Thanks to the Wachowskis' imaginative vision, ...</td>\n",
       "      <td>What if virtual reality wasn't just for fun, b...</td>\n",
       "      <td>Keanu Reeves, Laurence Fishburne, Carrie-Anne ...</td>\n",
       "      <td>Lilly Wachowski, Lana Wachowsk</td>\n",
       "    </tr>\n",
       "    <tr>\n",
       "      <th>137</th>\n",
       "      <td>Terminator 2: Judgment Day</td>\n",
       "      <td>1991</td>\n",
       "      <td>93</td>\n",
       "      <td>T2 features thrilling action sequences and eye...</td>\n",
       "      <td>A sequel to the sci-fi action thriller that ma...</td>\n",
       "      <td>Arnold Schwarzenegger, Linda Hamilton, Edward ...</td>\n",
       "      <td>James Cameron</td>\n",
       "    </tr>\n",
       "    <tr>\n",
       "      <th>138</th>\n",
       "      <td>Die Hard</td>\n",
       "      <td>1988</td>\n",
       "      <td>94</td>\n",
       "      <td>Its many imitators (and sequels) have never co...</td>\n",
       "      <td>It's Christmas time in L.A., and there's an em...</td>\n",
       "      <td>Bruce Willis, Alan Rickman, Reginald VelJohnso...</td>\n",
       "      <td>John McTiernan</td>\n",
       "    </tr>\n",
       "    <tr>\n",
       "      <th>139</th>\n",
       "      <td>Mad Max: Fury Road</td>\n",
       "      <td>2015</td>\n",
       "      <td>97</td>\n",
       "      <td>With exhilarating action and a surprising amou...</td>\n",
       "      <td>Filmmaker George Miller gears up for another p...</td>\n",
       "      <td>Tom Hardy, Charlize Theron, Nicholas Hoult, Ro...</td>\n",
       "      <td>George Mill</td>\n",
       "    </tr>\n",
       "  </tbody>\n",
       "</table>\n",
       "<p>140 rows × 7 columns</p>\n",
       "</div>"
      ],
      "text/plain": [
       "                              names  year  rating  \\\n",
       "0                    Running Scared  1986      57   \n",
       "1                       Equilibrium  2002      41   \n",
       "2                              Hero  2004      94   \n",
       "3                        Road House  1989      37   \n",
       "4                       Unstoppable  2010      87   \n",
       "..                              ...   ...     ...   \n",
       "135  Lat sau san taam (Hard-Boiled)  1992      94   \n",
       "136                      The Matrix  1999      88   \n",
       "137      Terminator 2: Judgment Day  1991      93   \n",
       "138                        Die Hard  1988      94   \n",
       "139              Mad Max: Fury Road  2015      97   \n",
       "\n",
       "                                    Critics Consensus:  \\\n",
       "0    Running Scared struggles to strike a consisten...   \n",
       "1    Equilibrium is a reheated mishmash of other sc...   \n",
       "2    With death-defying action sequences and epic h...   \n",
       "3    Whether Road House is simply bad or so bad it'...   \n",
       "4    As fast, loud, and relentless as the train at ...   \n",
       "..                                                 ...   \n",
       "135  Boasting impactful action as well as surprisin...   \n",
       "136  Thanks to the Wachowskis' imaginative vision, ...   \n",
       "137  T2 features thrilling action sequences and eye...   \n",
       "138  Its many imitators (and sequels) have never co...   \n",
       "139  With exhilarating action and a surprising amou...   \n",
       "\n",
       "                                            Synopsis:   \\\n",
       "0    Distinguished by a sharp, witty dialogue betwe...   \n",
       "1    In the nation of Libria, there is always peace...   \n",
       "2    Hero is two-time Academy Award nominee Zhang Y...   \n",
       "3    Dalton (Swayze) is a true gentleman with a deg...   \n",
       "4    In this action thriller from director Tony Sco...   \n",
       "..                                                 ...   \n",
       "135  Yun-Fat portrays a maverick, clarinet-playing ...   \n",
       "136  What if virtual reality wasn't just for fun, b...   \n",
       "137  A sequel to the sci-fi action thriller that ma...   \n",
       "138  It's Christmas time in L.A., and there's an em...   \n",
       "139  Filmmaker George Miller gears up for another p...   \n",
       "\n",
       "                                                  cast  \\\n",
       "0    Gregory Hines, Billy Crystal, Jimmy Smits, Ste...   \n",
       "1    Christian Bale, Emily Watson, Taye Diggs, Angu...   \n",
       "2    Jet Li, Tony Leung Chiu Wai, Maggie Cheung, Da...   \n",
       "3    Patrick Swayze, Kelly Lynch, Sam Elliott, Ben ...   \n",
       "4    Denzel Washington, Chris Pine, Rosario Dawson,...   \n",
       "..                                                 ...   \n",
       "135  Yun-Fat Chow, Tony Leung Chiu Wai, Anthony Won...   \n",
       "136  Keanu Reeves, Laurence Fishburne, Carrie-Anne ...   \n",
       "137  Arnold Schwarzenegger, Linda Hamilton, Edward ...   \n",
       "138  Bruce Willis, Alan Rickman, Reginald VelJohnso...   \n",
       "139  Tom Hardy, Charlize Theron, Nicholas Hoult, Ro...   \n",
       "\n",
       "                           director  \n",
       "0                       Peter Hyams  \n",
       "1                         Kurt Wimm  \n",
       "2                       Zhang Yimou  \n",
       "3                  Rowdy Herrington  \n",
       "4                          Tony Sco  \n",
       "..                              ...  \n",
       "135                        John Woo  \n",
       "136  Lilly Wachowski, Lana Wachowsk  \n",
       "137                   James Cameron  \n",
       "138                  John McTiernan  \n",
       "139                     George Mill  \n",
       "\n",
       "[140 rows x 7 columns]"
      ]
     },
     "execution_count": 27,
     "metadata": {},
     "output_type": "execute_result"
    }
   ],
   "source": [
    "df=pd.DataFrame()\n",
    "df['names']=names\n",
    "df['year']=years\n",
    "df['rating']=rate\n",
    "df['Critics Consensus:']=x\n",
    "df['Synopsis: ']=y\n",
    "df['cast']=z\n",
    "df['director']=w\n",
    "df"
   ]
  },
  {
   "cell_type": "code",
   "execution_count": 28,
   "metadata": {},
   "outputs": [],
   "source": [
    "df.to_csv(\"list.csv\",index=False,header=True)"
   ]
  },
  {
   "cell_type": "code",
   "execution_count": null,
   "metadata": {},
   "outputs": [],
   "source": []
  }
 ],
 "metadata": {
  "kernelspec": {
   "display_name": "Python 3",
   "language": "python",
   "name": "python3"
  },
  "language_info": {
   "codemirror_mode": {
    "name": "ipython",
    "version": 3
   },
   "file_extension": ".py",
   "mimetype": "text/x-python",
   "name": "python",
   "nbconvert_exporter": "python",
   "pygments_lexer": "ipython3",
   "version": "3.9.0"
  }
 },
 "nbformat": 4,
 "nbformat_minor": 4
}
