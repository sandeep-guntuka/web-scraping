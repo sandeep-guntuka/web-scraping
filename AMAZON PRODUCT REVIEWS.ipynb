{
 "cells": [
  {
   "cell_type": "code",
   "execution_count": 2,
   "metadata": {},
   "outputs": [],
   "source": [
    "import requests\n",
    "from bs4 import BeautifulSoup"
   ]
  },
  {
   "cell_type": "code",
   "execution_count": 3,
   "metadata": {},
   "outputs": [],
   "source": [
    "base_site='https://www.amazon.in/product-reviews//B089MTJVLD/ref=acr_dpx_hist_5?ie=UTF8&filterByStar=five_star&reviewerType=all_reviews#reviews-filter-bar'"
   ]
  },
  {
   "cell_type": "code",
   "execution_count": 4,
   "metadata": {},
   "outputs": [
    {
     "data": {
      "text/plain": [
       "<Response [200]>"
      ]
     },
     "execution_count": 4,
     "metadata": {},
     "output_type": "execute_result"
    }
   ],
   "source": [
    "response=requests.get(base_site)\n",
    "response"
   ]
  },
  {
   "cell_type": "code",
   "execution_count": 5,
   "metadata": {},
   "outputs": [],
   "source": [
    "html=response.content\n"
   ]
  },
  {
   "cell_type": "code",
   "execution_count": 6,
   "metadata": {},
   "outputs": [],
   "source": [
    "soup=BeautifulSoup(html,'html.parser')\n"
   ]
  },
  {
   "cell_type": "code",
   "execution_count": 7,
   "metadata": {},
   "outputs": [],
   "source": [
    "reviews=soup.find_all('div',class_='a-section review aok-relative')\n"
   ]
  },
  {
   "cell_type": "code",
   "execution_count": 8,
   "metadata": {},
   "outputs": [],
   "source": [
    "names=[l.find('span',class_='a-profile-name').text for l in reviews]"
   ]
  },
  {
   "cell_type": "code",
   "execution_count": 9,
   "metadata": {},
   "outputs": [
    {
     "data": {
      "text/plain": [
       "['Mohit MJ',\n",
       " 'Christhuraj',\n",
       " 'Raviteja',\n",
       " 'Amit Shanker',\n",
       " 'Lokender Pilaniya',\n",
       " 'Amal',\n",
       " 'Badhusha Majeed',\n",
       " 'Kuldeep',\n",
       " 'arpan',\n",
       " 'Julian Joy Jacob']"
      ]
     },
     "execution_count": 9,
     "metadata": {},
     "output_type": "execute_result"
    }
   ],
   "source": [
    "names"
   ]
  },
  {
   "cell_type": "code",
   "execution_count": 10,
   "metadata": {},
   "outputs": [
    {
     "data": {
      "text/plain": [
       "['5.0', '5.0', '5.0', '5.0', '5.0', '5.0', '5.0', '5.0', '5.0', '5.0']"
      ]
     },
     "execution_count": 10,
     "metadata": {},
     "output_type": "execute_result"
    }
   ],
   "source": [
    "rating=[l.find('span',class_='a-icon-alt').text.rstrip('out of 5 stars') for l in reviews]\n",
    "rating"
   ]
  },
  {
   "cell_type": "code",
   "execution_count": 11,
   "metadata": {},
   "outputs": [
    {
     "data": {
      "text/plain": [
       "[<a class=\"a-size-base a-link-normal review-title a-color-base review-title-content a-text-bold\" data-hook=\"review-title\" href=\"/gp/customer-reviews/RKFNBV8UHH917?ASIN=B089MTJVLD\">\n",
       " <span>Amazing - True Flagship</span>\n",
       " </a>,\n",
       " <a class=\"a-size-base a-link-normal review-title a-color-base review-title-content a-text-bold\" data-hook=\"review-title\" href=\"/gp/customer-reviews/R12XXV10PA3GOI?ASIN=B089MTJVLD\">\n",
       " <span>Lovin it.</span>\n",
       " </a>,\n",
       " <a class=\"a-size-base a-link-normal review-title a-color-base review-title-content a-text-bold\" data-hook=\"review-title\" href=\"/gp/customer-reviews/RM1RMM02DFZQG?ASIN=B089MTJVLD\">\n",
       " <span>Best phone in this price range</span>\n",
       " </a>,\n",
       " <a class=\"a-size-base a-link-normal review-title a-color-base review-title-content a-text-bold\" data-hook=\"review-title\" href=\"/gp/customer-reviews/RZHHFR9QWEBL0?ASIN=B089MTJVLD\">\n",
       " <span>One Plus 9R</span>\n",
       " </a>,\n",
       " <a class=\"a-size-base a-link-normal review-title a-color-base review-title-content a-text-bold\" data-hook=\"review-title\" href=\"/gp/customer-reviews/R3U0OEWVBW6UIS?ASIN=B089MTJVLD\">\n",
       " <span>Wonderful phone for the price.</span>\n",
       " </a>,\n",
       " <a class=\"a-size-base a-link-normal review-title a-color-base review-title-content a-text-bold\" data-hook=\"review-title\" href=\"/gp/customer-reviews/R2SFHLQZPJBYH6?ASIN=B089MTJVLD\">\n",
       " <span>You won't go wrong choosing OnePlus 9R. A decent choice for 2021.</span>\n",
       " </a>,\n",
       " <a class=\"a-size-base a-link-normal review-title a-color-base review-title-content a-text-bold\" data-hook=\"review-title\" href=\"/gp/customer-reviews/R1MV5ENTU7O18K?ASIN=B089MTJVLD\">\n",
       " <span>GENUINE NOTE FOR ONEPLUS 9 SERIES SEEKERS</span>\n",
       " </a>,\n",
       " <a class=\"a-size-base a-link-normal review-title a-color-base review-title-content a-text-bold\" data-hook=\"review-title\" href=\"/gp/customer-reviews/R3A9P6E4XSEFST?ASIN=B089MTJVLD\">\n",
       " <span>move from OPT3T to 9R best device (No Heating issue after update) :)</span>\n",
       " </a>,\n",
       " <a class=\"a-size-base a-link-normal review-title a-color-base review-title-content a-text-bold\" data-hook=\"review-title\" href=\"/gp/customer-reviews/R2F4J1WSYRTR0F?ASIN=B089MTJVLD\">\n",
       " <span>Value for money 💰💰💰</span>\n",
       " </a>,\n",
       " <a class=\"a-size-base a-link-normal review-title a-color-base review-title-content a-text-bold\" data-hook=\"review-title\" href=\"/gp/customer-reviews/R2DG48OW0B40IU?ASIN=B089MTJVLD\">\n",
       " <span>Really Fast Phone, at a Really Great Price!</span>\n",
       " </a>]"
      ]
     },
     "execution_count": 11,
     "metadata": {},
     "output_type": "execute_result"
    }
   ],
   "source": [
    "ratings=soup.find_all('a',class_='a-size-base a-link-normal review-title a-color-base review-title-content a-text-bold')\n",
    "ratings"
   ]
  },
  {
   "cell_type": "code",
   "execution_count": 12,
   "metadata": {},
   "outputs": [
    {
     "data": {
      "text/plain": [
       "['Amazing - True Flagship',\n",
       " 'Lovin it.',\n",
       " 'Best phone in this price range',\n",
       " 'One Plus 9R',\n",
       " 'Wonderful phone for the price.',\n",
       " \"You won't go wrong choosing OnePlus 9R. A decent choice for 2021.\",\n",
       " 'GENUINE NOTE FOR ONEPLUS 9 SERIES SEEKERS',\n",
       " 'move from OPT3T to 9R best device (No Heating issue after update) :)',\n",
       " 'Value for money 💰💰💰',\n",
       " 'Really Fast Phone, at a Really Great Price!']"
      ]
     },
     "execution_count": 12,
     "metadata": {},
     "output_type": "execute_result"
    }
   ],
   "source": [
    "review_title=[l.find('span').text for l in ratings]\n",
    "review_title"
   ]
  },
  {
   "cell_type": "code",
   "execution_count": 15,
   "metadata": {},
   "outputs": [],
   "source": [
    "descriptions=soup.find_all('span',class_='a-size-base review-text review-text-content')\n"
   ]
  },
  {
   "cell_type": "code",
   "execution_count": 16,
   "metadata": {
    "scrolled": true
   },
   "outputs": [],
   "source": [
    "description=[l.find('span').text.strip('\\n  ') for l in descriptions]\n"
   ]
  },
  {
   "cell_type": "code",
   "execution_count": 17,
   "metadata": {},
   "outputs": [],
   "source": [
    "import pandas as pd"
   ]
  },
  {
   "cell_type": "code",
   "execution_count": 18,
   "metadata": {},
   "outputs": [
    {
     "data": {
      "text/html": [
       "<div>\n",
       "<style scoped>\n",
       "    .dataframe tbody tr th:only-of-type {\n",
       "        vertical-align: middle;\n",
       "    }\n",
       "\n",
       "    .dataframe tbody tr th {\n",
       "        vertical-align: top;\n",
       "    }\n",
       "\n",
       "    .dataframe thead th {\n",
       "        text-align: right;\n",
       "    }\n",
       "</style>\n",
       "<table border=\"1\" class=\"dataframe\">\n",
       "  <thead>\n",
       "    <tr style=\"text-align: right;\">\n",
       "      <th></th>\n",
       "      <th>reviewer names</th>\n",
       "      <th>rating</th>\n",
       "      <th>review title</th>\n",
       "      <th>description</th>\n",
       "    </tr>\n",
       "  </thead>\n",
       "  <tbody>\n",
       "    <tr>\n",
       "      <th>0</th>\n",
       "      <td>Mohit MJ</td>\n",
       "      <td>5.0</td>\n",
       "      <td>Amazing - True Flagship</td>\n",
       "      <td>My first time buying a OnePlus phone and I rea...</td>\n",
       "    </tr>\n",
       "    <tr>\n",
       "      <th>1</th>\n",
       "      <td>Christhuraj</td>\n",
       "      <td>5.0</td>\n",
       "      <td>Lovin it.</td>\n",
       "      <td>After 5 days of usage writing this review.1. B...</td>\n",
       "    </tr>\n",
       "    <tr>\n",
       "      <th>2</th>\n",
       "      <td>Raviteja</td>\n",
       "      <td>5.0</td>\n",
       "      <td>Best phone in this price range</td>\n",
       "      <td>Review after 3 days usePros1) Build quality is...</td>\n",
       "    </tr>\n",
       "    <tr>\n",
       "      <th>3</th>\n",
       "      <td>Amit Shanker</td>\n",
       "      <td>5.0</td>\n",
       "      <td>One Plus 9R</td>\n",
       "      <td>From One plus 3Then One Plus 6And Now One Plus...</td>\n",
       "    </tr>\n",
       "    <tr>\n",
       "      <th>4</th>\n",
       "      <td>Lokender Pilaniya</td>\n",
       "      <td>5.0</td>\n",
       "      <td>Wonderful phone for the price.</td>\n",
       "      <td>As I'm a OnePlus user for more than 4 years no...</td>\n",
       "    </tr>\n",
       "    <tr>\n",
       "      <th>5</th>\n",
       "      <td>Amal</td>\n",
       "      <td>5.0</td>\n",
       "      <td>You won't go wrong choosing OnePlus 9R. A dece...</td>\n",
       "      <td>An overall decent phone. The clean software ex...</td>\n",
       "    </tr>\n",
       "    <tr>\n",
       "      <th>6</th>\n",
       "      <td>Badhusha Majeed</td>\n",
       "      <td>5.0</td>\n",
       "      <td>GENUINE NOTE FOR ONEPLUS 9 SERIES SEEKERS</td>\n",
       "      <td>Okay, First of all, I was using oneplus 6 bef...</td>\n",
       "    </tr>\n",
       "    <tr>\n",
       "      <th>7</th>\n",
       "      <td>Kuldeep</td>\n",
       "      <td>5.0</td>\n",
       "      <td>move from OPT3T to 9R best device (No Heating ...</td>\n",
       "      <td>Review (8GB):This phone has very good performa...</td>\n",
       "    </tr>\n",
       "    <tr>\n",
       "      <th>8</th>\n",
       "      <td>arpan</td>\n",
       "      <td>5.0</td>\n",
       "      <td>Value for money 💰💰💰</td>\n",
       "      <td>The OnePlus 9R is a fair proposition in terms ...</td>\n",
       "    </tr>\n",
       "    <tr>\n",
       "      <th>9</th>\n",
       "      <td>Julian Joy Jacob</td>\n",
       "      <td>5.0</td>\n",
       "      <td>Really Fast Phone, at a Really Great Price!</td>\n",
       "      <td>Ordered Carbon Black; 12GB+256GB variant.Recie...</td>\n",
       "    </tr>\n",
       "  </tbody>\n",
       "</table>\n",
       "</div>"
      ],
      "text/plain": [
       "      reviewer names rating  \\\n",
       "0           Mohit MJ    5.0   \n",
       "1        Christhuraj    5.0   \n",
       "2           Raviteja    5.0   \n",
       "3       Amit Shanker    5.0   \n",
       "4  Lokender Pilaniya    5.0   \n",
       "5               Amal    5.0   \n",
       "6    Badhusha Majeed    5.0   \n",
       "7            Kuldeep    5.0   \n",
       "8              arpan    5.0   \n",
       "9   Julian Joy Jacob    5.0   \n",
       "\n",
       "                                        review title  \\\n",
       "0                            Amazing - True Flagship   \n",
       "1                                          Lovin it.   \n",
       "2                     Best phone in this price range   \n",
       "3                                        One Plus 9R   \n",
       "4                     Wonderful phone for the price.   \n",
       "5  You won't go wrong choosing OnePlus 9R. A dece...   \n",
       "6          GENUINE NOTE FOR ONEPLUS 9 SERIES SEEKERS   \n",
       "7  move from OPT3T to 9R best device (No Heating ...   \n",
       "8                                Value for money 💰💰💰   \n",
       "9        Really Fast Phone, at a Really Great Price!   \n",
       "\n",
       "                                         description  \n",
       "0  My first time buying a OnePlus phone and I rea...  \n",
       "1  After 5 days of usage writing this review.1. B...  \n",
       "2  Review after 3 days usePros1) Build quality is...  \n",
       "3  From One plus 3Then One Plus 6And Now One Plus...  \n",
       "4  As I'm a OnePlus user for more than 4 years no...  \n",
       "5  An overall decent phone. The clean software ex...  \n",
       "6   Okay, First of all, I was using oneplus 6 bef...  \n",
       "7  Review (8GB):This phone has very good performa...  \n",
       "8  The OnePlus 9R is a fair proposition in terms ...  \n",
       "9  Ordered Carbon Black; 12GB+256GB variant.Recie...  "
      ]
     },
     "execution_count": 18,
     "metadata": {},
     "output_type": "execute_result"
    }
   ],
   "source": [
    "df=pd.DataFrame()\n",
    "df['reviewer names']=names\n",
    "df['rating']=rating\n",
    "df['review title']=review_title\n",
    "df['description']=description\n",
    "df"
   ]
  },
  {
   "cell_type": "code",
   "execution_count": null,
   "metadata": {},
   "outputs": [],
   "source": [
    "df.to_excel('reviews.xlsx',index=False,header=T)"
   ]
  }
 ],
 "metadata": {
  "kernelspec": {
   "display_name": "Python 3",
   "language": "python",
   "name": "python3"
  },
  "language_info": {
   "codemirror_mode": {
    "name": "ipython",
    "version": 3
   },
   "file_extension": ".py",
   "mimetype": "text/x-python",
   "name": "python",
   "nbconvert_exporter": "python",
   "pygments_lexer": "ipython3",
   "version": "3.9.0"
  }
 },
 "nbformat": 4,
 "nbformat_minor": 4
}
