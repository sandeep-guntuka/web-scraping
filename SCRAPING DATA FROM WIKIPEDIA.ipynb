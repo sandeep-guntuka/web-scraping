{
 "cells": [
  {
   "cell_type": "code",
   "execution_count": 1,
   "metadata": {},
   "outputs": [],
   "source": [
    "import requests\n",
    "from bs4 import BeautifulSoup"
   ]
  },
  {
   "cell_type": "code",
   "execution_count": null,
   "metadata": {},
   "outputs": [],
   "source": []
  },
  {
   "cell_type": "code",
   "execution_count": 2,
   "metadata": {},
   "outputs": [],
   "source": [
    "base_site=\"https://en.wikipedia.org/wiki/Music\""
   ]
  },
  {
   "cell_type": "code",
   "execution_count": 3,
   "metadata": {},
   "outputs": [],
   "source": [
    "response=requests.get(base_site)"
   ]
  },
  {
   "cell_type": "code",
   "execution_count": 4,
   "metadata": {},
   "outputs": [
    {
     "data": {
      "text/plain": [
       "200"
      ]
     },
     "execution_count": 4,
     "metadata": {},
     "output_type": "execute_result"
    }
   ],
   "source": [
    "response.status_code"
   ]
  },
  {
   "cell_type": "code",
   "execution_count": 5,
   "metadata": {},
   "outputs": [],
   "source": [
    "#response.text"
   ]
  },
  {
   "cell_type": "code",
   "execution_count": 6,
   "metadata": {},
   "outputs": [],
   "source": [
    "html=response.content\n"
   ]
  },
  {
   "cell_type": "code",
   "execution_count": null,
   "metadata": {},
   "outputs": [],
   "source": []
  },
  {
   "cell_type": "code",
   "execution_count": 7,
   "metadata": {},
   "outputs": [],
   "source": [
    "soup=BeautifulSoup(html,'html.parser')"
   ]
  },
  {
   "cell_type": "code",
   "execution_count": null,
   "metadata": {},
   "outputs": [],
   "source": []
  },
  {
   "cell_type": "code",
   "execution_count": 10,
   "metadata": {},
   "outputs": [],
   "source": [
    "with open('wiki.html','wb')as file:\n",
    "    file.write(soup.prettify('utf-8'))"
   ]
  },
  {
   "cell_type": "code",
   "execution_count": null,
   "metadata": {},
   "outputs": [],
   "source": []
  },
  {
   "cell_type": "code",
   "execution_count": 8,
   "metadata": {},
   "outputs": [],
   "source": [
    "#soup"
   ]
  },
  {
   "cell_type": "code",
   "execution_count": 9,
   "metadata": {
    "scrolled": true
   },
   "outputs": [],
   "source": [
    "#soup.find('head')"
   ]
  },
  {
   "cell_type": "code",
   "execution_count": 13,
   "metadata": {},
   "outputs": [
    {
     "name": "stdout",
     "output_type": "stream",
     "text": [
      "None\n"
     ]
    }
   ],
   "source": [
    "print(soup.find('video'))"
   ]
  },
  {
   "cell_type": "code",
   "execution_count": 14,
   "metadata": {},
   "outputs": [
    {
     "data": {
      "text/plain": [
       "<a id=\"top\"></a>"
      ]
     },
     "execution_count": 14,
     "metadata": {},
     "output_type": "execute_result"
    }
   ],
   "source": [
    "soup.find('a')"
   ]
  },
  {
   "cell_type": "code",
   "execution_count": 10,
   "metadata": {},
   "outputs": [],
   "source": [
    "links=soup.find_all('a')\n",
    "#links\n",
    "#len(links)"
   ]
  },
  {
   "cell_type": "code",
   "execution_count": 11,
   "metadata": {},
   "outputs": [
    {
     "data": {
      "text/plain": [
       "True"
      ]
     },
     "execution_count": 11,
     "metadata": {},
     "output_type": "execute_result"
    }
   ],
   "source": [
    "isinstance(links,list)"
   ]
  },
  {
   "cell_type": "code",
   "execution_count": 12,
   "metadata": {},
   "outputs": [
    {
     "data": {
      "text/plain": [
       "[]"
      ]
     },
     "execution_count": 12,
     "metadata": {},
     "output_type": "execute_result"
    }
   ],
   "source": [
    "soup.find_all('video')"
   ]
  },
  {
   "cell_type": "code",
   "execution_count": 13,
   "metadata": {},
   "outputs": [
    {
     "data": {
      "text/plain": [
       "<tbody><tr><th class=\"infobox-above\" colspan=\"2\" style=\"background:antiquewhite;\">Music</th></tr><tr><td class=\"infobox-image\" colspan=\"2\"><a class=\"image\" href=\"/wiki/File:Fran%C3%A7ois_Boucher,_Allegory_of_Music,_1764,_NGA_32680.jpg\"><img alt=\"François Boucher, Allegory of Music, 1764, NGA 32680.jpg\" data-file-height=\"3189\" data-file-width=\"4000\" decoding=\"async\" height=\"175\" src=\"//upload.wikimedia.org/wikipedia/commons/thumb/d/dd/Fran%C3%A7ois_Boucher%2C_Allegory_of_Music%2C_1764%2C_NGA_32680.jpg/220px-Fran%C3%A7ois_Boucher%2C_Allegory_of_Music%2C_1764%2C_NGA_32680.jpg\" srcset=\"//upload.wikimedia.org/wikipedia/commons/thumb/d/dd/Fran%C3%A7ois_Boucher%2C_Allegory_of_Music%2C_1764%2C_NGA_32680.jpg/330px-Fran%C3%A7ois_Boucher%2C_Allegory_of_Music%2C_1764%2C_NGA_32680.jpg 1.5x, //upload.wikimedia.org/wikipedia/commons/thumb/d/dd/Fran%C3%A7ois_Boucher%2C_Allegory_of_Music%2C_1764%2C_NGA_32680.jpg/440px-Fran%C3%A7ois_Boucher%2C_Allegory_of_Music%2C_1764%2C_NGA_32680.jpg 2x\" width=\"220\"/></a><div class=\"infobox-caption\"><i>Allegory of Music</i>, by <a href=\"/wiki/Fran%C3%A7ois_Boucher\" title=\"François Boucher\">François Boucher</a>, 1764</div></td></tr><tr><th class=\"infobox-label\" scope=\"row\">Medium</th><td class=\"infobox-data\"><a href=\"/wiki/Sound\" title=\"Sound\">sound</a>, silence, time</td></tr><tr><th class=\"infobox-label\" scope=\"row\">Types</th><td class=\"infobox-data\"><a href=\"/wiki/Music_genre\" title=\"Music genre\">genres</a></td></tr><tr><th class=\"infobox-label\" scope=\"row\">Originating culture</th><td class=\"infobox-data\">various</td></tr><tr><th class=\"infobox-label\" scope=\"row\">Originating era</th><td class=\"infobox-data\"><a href=\"/wiki/Paleolithic\" title=\"Paleolithic\">Paleolithic</a> era</td></tr></tbody>"
      ]
     },
     "execution_count": 13,
     "metadata": {},
     "output_type": "execute_result"
    }
   ],
   "source": [
    "table=soup.find('tbody')\n",
    "table\n",
    "#type(table)"
   ]
  },
  {
   "cell_type": "code",
   "execution_count": 14,
   "metadata": {
    "scrolled": true
   },
   "outputs": [
    {
     "data": {
      "text/plain": [
       "[<td class=\"infobox-image\" colspan=\"2\"><a class=\"image\" href=\"/wiki/File:Fran%C3%A7ois_Boucher,_Allegory_of_Music,_1764,_NGA_32680.jpg\"><img alt=\"François Boucher, Allegory of Music, 1764, NGA 32680.jpg\" data-file-height=\"3189\" data-file-width=\"4000\" decoding=\"async\" height=\"175\" src=\"//upload.wikimedia.org/wikipedia/commons/thumb/d/dd/Fran%C3%A7ois_Boucher%2C_Allegory_of_Music%2C_1764%2C_NGA_32680.jpg/220px-Fran%C3%A7ois_Boucher%2C_Allegory_of_Music%2C_1764%2C_NGA_32680.jpg\" srcset=\"//upload.wikimedia.org/wikipedia/commons/thumb/d/dd/Fran%C3%A7ois_Boucher%2C_Allegory_of_Music%2C_1764%2C_NGA_32680.jpg/330px-Fran%C3%A7ois_Boucher%2C_Allegory_of_Music%2C_1764%2C_NGA_32680.jpg 1.5x, //upload.wikimedia.org/wikipedia/commons/thumb/d/dd/Fran%C3%A7ois_Boucher%2C_Allegory_of_Music%2C_1764%2C_NGA_32680.jpg/440px-Fran%C3%A7ois_Boucher%2C_Allegory_of_Music%2C_1764%2C_NGA_32680.jpg 2x\" width=\"220\"/></a><div class=\"infobox-caption\"><i>Allegory of Music</i>, by <a href=\"/wiki/Fran%C3%A7ois_Boucher\" title=\"François Boucher\">François Boucher</a>, 1764</div></td>,\n",
       " <td class=\"infobox-data\"><a href=\"/wiki/Sound\" title=\"Sound\">sound</a>, silence, time</td>,\n",
       " <td class=\"infobox-data\"><a href=\"/wiki/Music_genre\" title=\"Music genre\">genres</a></td>,\n",
       " <td class=\"infobox-data\">various</td>,\n",
       " <td class=\"infobox-data\"><a href=\"/wiki/Paleolithic\" title=\"Paleolithic\">Paleolithic</a> era</td>]"
      ]
     },
     "execution_count": 14,
     "metadata": {},
     "output_type": "execute_result"
    }
   ],
   "source": [
    "table.find_all('td')\n",
    "#len(table.find_all('td'))\n"
   ]
  },
  {
   "cell_type": "code",
   "execution_count": null,
   "metadata": {},
   "outputs": [],
   "source": []
  },
  {
   "cell_type": "code",
   "execution_count": 15,
   "metadata": {},
   "outputs": [
    {
     "data": {
      "text/plain": [
       "[<tr><th class=\"infobox-above\" colspan=\"2\" style=\"background:antiquewhite;\">Music</th></tr>,\n",
       " <tr><td class=\"infobox-image\" colspan=\"2\"><a class=\"image\" href=\"/wiki/File:Fran%C3%A7ois_Boucher,_Allegory_of_Music,_1764,_NGA_32680.jpg\"><img alt=\"François Boucher, Allegory of Music, 1764, NGA 32680.jpg\" data-file-height=\"3189\" data-file-width=\"4000\" decoding=\"async\" height=\"175\" src=\"//upload.wikimedia.org/wikipedia/commons/thumb/d/dd/Fran%C3%A7ois_Boucher%2C_Allegory_of_Music%2C_1764%2C_NGA_32680.jpg/220px-Fran%C3%A7ois_Boucher%2C_Allegory_of_Music%2C_1764%2C_NGA_32680.jpg\" srcset=\"//upload.wikimedia.org/wikipedia/commons/thumb/d/dd/Fran%C3%A7ois_Boucher%2C_Allegory_of_Music%2C_1764%2C_NGA_32680.jpg/330px-Fran%C3%A7ois_Boucher%2C_Allegory_of_Music%2C_1764%2C_NGA_32680.jpg 1.5x, //upload.wikimedia.org/wikipedia/commons/thumb/d/dd/Fran%C3%A7ois_Boucher%2C_Allegory_of_Music%2C_1764%2C_NGA_32680.jpg/440px-Fran%C3%A7ois_Boucher%2C_Allegory_of_Music%2C_1764%2C_NGA_32680.jpg 2x\" width=\"220\"/></a><div class=\"infobox-caption\"><i>Allegory of Music</i>, by <a href=\"/wiki/Fran%C3%A7ois_Boucher\" title=\"François Boucher\">François Boucher</a>, 1764</div></td></tr>,\n",
       " <tr><th class=\"infobox-label\" scope=\"row\">Medium</th><td class=\"infobox-data\"><a href=\"/wiki/Sound\" title=\"Sound\">sound</a>, silence, time</td></tr>,\n",
       " <tr><th class=\"infobox-label\" scope=\"row\">Types</th><td class=\"infobox-data\"><a href=\"/wiki/Music_genre\" title=\"Music genre\">genres</a></td></tr>,\n",
       " <tr><th class=\"infobox-label\" scope=\"row\">Originating culture</th><td class=\"infobox-data\">various</td></tr>,\n",
       " <tr><th class=\"infobox-label\" scope=\"row\">Originating era</th><td class=\"infobox-data\"><a href=\"/wiki/Paleolithic\" title=\"Paleolithic\">Paleolithic</a> era</td></tr>]"
      ]
     },
     "execution_count": 15,
     "metadata": {},
     "output_type": "execute_result"
    }
   ],
   "source": [
    "table.contents\n",
    "#len(table.contents)"
   ]
  },
  {
   "cell_type": "code",
   "execution_count": 16,
   "metadata": {},
   "outputs": [
    {
     "data": {
      "text/plain": [
       "<table class=\"infobox\"><tbody><tr><th class=\"infobox-above\" colspan=\"2\" style=\"background:antiquewhite;\">Music</th></tr><tr><td class=\"infobox-image\" colspan=\"2\"><a class=\"image\" href=\"/wiki/File:Fran%C3%A7ois_Boucher,_Allegory_of_Music,_1764,_NGA_32680.jpg\"><img alt=\"François Boucher, Allegory of Music, 1764, NGA 32680.jpg\" data-file-height=\"3189\" data-file-width=\"4000\" decoding=\"async\" height=\"175\" src=\"//upload.wikimedia.org/wikipedia/commons/thumb/d/dd/Fran%C3%A7ois_Boucher%2C_Allegory_of_Music%2C_1764%2C_NGA_32680.jpg/220px-Fran%C3%A7ois_Boucher%2C_Allegory_of_Music%2C_1764%2C_NGA_32680.jpg\" srcset=\"//upload.wikimedia.org/wikipedia/commons/thumb/d/dd/Fran%C3%A7ois_Boucher%2C_Allegory_of_Music%2C_1764%2C_NGA_32680.jpg/330px-Fran%C3%A7ois_Boucher%2C_Allegory_of_Music%2C_1764%2C_NGA_32680.jpg 1.5x, //upload.wikimedia.org/wikipedia/commons/thumb/d/dd/Fran%C3%A7ois_Boucher%2C_Allegory_of_Music%2C_1764%2C_NGA_32680.jpg/440px-Fran%C3%A7ois_Boucher%2C_Allegory_of_Music%2C_1764%2C_NGA_32680.jpg 2x\" width=\"220\"/></a><div class=\"infobox-caption\"><i>Allegory of Music</i>, by <a href=\"/wiki/Fran%C3%A7ois_Boucher\" title=\"François Boucher\">François Boucher</a>, 1764</div></td></tr><tr><th class=\"infobox-label\" scope=\"row\">Medium</th><td class=\"infobox-data\"><a href=\"/wiki/Sound\" title=\"Sound\">sound</a>, silence, time</td></tr><tr><th class=\"infobox-label\" scope=\"row\">Types</th><td class=\"infobox-data\"><a href=\"/wiki/Music_genre\" title=\"Music genre\">genres</a></td></tr><tr><th class=\"infobox-label\" scope=\"row\">Originating culture</th><td class=\"infobox-data\">various</td></tr><tr><th class=\"infobox-label\" scope=\"row\">Originating era</th><td class=\"infobox-data\"><a href=\"/wiki/Paleolithic\" title=\"Paleolithic\">Paleolithic</a> era</td></tr></tbody></table>"
      ]
     },
     "execution_count": 16,
     "metadata": {},
     "output_type": "execute_result"
    }
   ],
   "source": [
    "table.parent\n",
    "#table.parent.parent"
   ]
  },
  {
   "cell_type": "code",
   "execution_count": null,
   "metadata": {},
   "outputs": [],
   "source": []
  },
  {
   "cell_type": "code",
   "execution_count": 17,
   "metadata": {},
   "outputs": [
    {
     "data": {
      "text/plain": [
       "<div id=\"contentSub\"></div>"
      ]
     },
     "execution_count": 17,
     "metadata": {},
     "output_type": "execute_result"
    }
   ],
   "source": [
    "soup.find('div',id=\"contentSub\")"
   ]
  },
  {
   "cell_type": "code",
   "execution_count": null,
   "metadata": {},
   "outputs": [],
   "source": []
  },
  {
   "cell_type": "code",
   "execution_count": 18,
   "metadata": {},
   "outputs": [
    {
     "data": {
      "text/plain": [
       "[<a class=\"mw-jump-link\" href=\"#mw-head\">Jump to navigation</a>,\n",
       " <a class=\"mw-jump-link\" href=\"#searchInput\">Jump to search</a>]"
      ]
     },
     "execution_count": 18,
     "metadata": {},
     "output_type": "execute_result"
    }
   ],
   "source": [
    "soup.find_all('a',class_=\"mw-jump-link\")\n",
    "#soup.find_all('a',class_=\"mw-jump-link\",href='#mw-head')"
   ]
  },
  {
   "cell_type": "code",
   "execution_count": null,
   "metadata": {},
   "outputs": [],
   "source": []
  },
  {
   "cell_type": "code",
   "execution_count": 19,
   "metadata": {},
   "outputs": [
    {
     "data": {
      "text/plain": [
       "<a class=\"mw-jump-link\" href=\"#mw-head\">Jump to navigation</a>"
      ]
     },
     "execution_count": 19,
     "metadata": {},
     "output_type": "execute_result"
    }
   ],
   "source": [
    "soup.find('a',attrs={'class':\"mw-jump-link\",'href':'#mw-head'})"
   ]
  },
  {
   "cell_type": "code",
   "execution_count": null,
   "metadata": {},
   "outputs": [],
   "source": []
  },
  {
   "cell_type": "code",
   "execution_count": 20,
   "metadata": {},
   "outputs": [
    {
     "data": {
      "text/plain": [
       "<a class=\"mw-jump-link\" href=\"#mw-head\">Jump to navigation</a>"
      ]
     },
     "execution_count": 20,
     "metadata": {},
     "output_type": "execute_result"
    }
   ],
   "source": [
    "a=soup.find('a',class_='mw-jump-link')\n",
    "a"
   ]
  },
  {
   "cell_type": "code",
   "execution_count": 21,
   "metadata": {},
   "outputs": [
    {
     "data": {
      "text/plain": [
       "{'class': ['mw-jump-link'], 'href': '#mw-head'}"
      ]
     },
     "execution_count": 21,
     "metadata": {},
     "output_type": "execute_result"
    }
   ],
   "source": [
    "a.attrs"
   ]
  },
  {
   "cell_type": "code",
   "execution_count": 22,
   "metadata": {},
   "outputs": [
    {
     "data": {
      "text/plain": [
       "'#mw-head'"
      ]
     },
     "execution_count": 22,
     "metadata": {},
     "output_type": "execute_result"
    }
   ],
   "source": [
    "a['href']\n",
    "#a['class']"
   ]
  },
  {
   "cell_type": "code",
   "execution_count": 23,
   "metadata": {},
   "outputs": [
    {
     "data": {
      "text/plain": [
       "'Jump to navigation'"
      ]
     },
     "execution_count": 23,
     "metadata": {},
     "output_type": "execute_result"
    }
   ],
   "source": [
    "a.string\n",
    "#a.text"
   ]
  },
  {
   "cell_type": "code",
   "execution_count": 24,
   "metadata": {},
   "outputs": [],
   "source": [
    "p=soup.find_all('p')[1]\n"
   ]
  },
  {
   "cell_type": "code",
   "execution_count": 25,
   "metadata": {},
   "outputs": [
    {
     "data": {
      "text/plain": [
       "'Music is the art of arranging sounds in time to produce a composition through the elements of melody, harmony, rhythm, and timbre.[1] It is one of the universal cultural aspects of all human societies. General definitions of music include common elements such as pitch (which governs melody and harmony), rhythm (and its associated concepts tempo, meter, and articulation), dynamics (loudness and softness), and the sonic qualities of timbre and texture (which are sometimes termed the \"color\" of a musical sound). Different styles or types of music may emphasize, de-emphasize or omit some of these elements. Music is performed with a vast range of instruments and vocal techniques ranging from singing to rapping; there are solely instrumental pieces, solely vocal pieces (such as songs without instrumental accompaniment) and pieces that combine singing and instruments. The word derives from Greek μουσική (mousike; \"(art) of the Muses\");[2] see §\\xa0Etymology and glossary of musical terminology.\\n'"
      ]
     },
     "execution_count": 25,
     "metadata": {},
     "output_type": "execute_result"
    }
   ],
   "source": [
    "p.text"
   ]
  },
  {
   "cell_type": "code",
   "execution_count": 27,
   "metadata": {},
   "outputs": [],
   "source": [
    "#print(p.parent.text)"
   ]
  },
  {
   "cell_type": "code",
   "execution_count": 28,
   "metadata": {},
   "outputs": [],
   "source": [
    "#print(soup.text)"
   ]
  },
  {
   "cell_type": "code",
   "execution_count": null,
   "metadata": {},
   "outputs": [],
   "source": []
  },
  {
   "cell_type": "code",
   "execution_count": 29,
   "metadata": {},
   "outputs": [
    {
     "name": "stdout",
     "output_type": "stream",
     "text": [
      "'Music'\n",
      "' is the '\n",
      "'art'\n",
      "' of arranging '\n",
      "'sounds'\n",
      "' in time to produce a '\n",
      "'composition'\n",
      "' through the '\n",
      "'elements'\n",
      "' of melody, harmony, rhythm, and timbre.'\n",
      "'[1]'\n",
      "' It is one of the universal '\n",
      "'cultural'\n",
      "' aspects of all human societies. General '\n",
      "'definitions of music'\n",
      "' include common elements such as '\n",
      "'pitch'\n",
      "' (which governs '\n",
      "'melody'\n",
      "' and '\n",
      "'harmony'\n",
      "'), '\n",
      "'rhythm'\n",
      "' (and its associated concepts '\n",
      "'tempo'\n",
      "', '\n",
      "'meter'\n",
      "', and '\n",
      "'articulation'\n",
      "'), '\n",
      "'dynamics'\n",
      "' (loudness and softness), and the sonic qualities of '\n",
      "'timbre'\n",
      "' and '\n",
      "'texture'\n",
      "' (which are sometimes termed the \"color\" of a musical sound). Different '\n",
      "'styles or types'\n",
      "' of music may emphasize, de-emphasize or omit some of these elements. Music is performed with a vast range of '\n",
      "'instruments'\n",
      "' and vocal techniques ranging from '\n",
      "'singing'\n",
      "' to '\n",
      "'rapping'\n",
      "'; there are solely '\n",
      "'instrumental pieces'\n",
      "', '\n",
      "'solely vocal pieces'\n",
      "' (such as songs without instrumental '\n",
      "'accompaniment'\n",
      "') and pieces that combine singing and instruments. The word derives from '\n",
      "'Greek'\n",
      "' '\n",
      "'μουσική'\n",
      "' ('\n",
      "'mousike'\n",
      "'; \"(art) of the '\n",
      "'Muses'\n",
      "'\");'\n",
      "'[2]'\n",
      "' see '\n",
      "'§\\xa0Etymology'\n",
      "' and '\n",
      "'glossary of musical terminology'\n",
      "'.\\n'\n"
     ]
    }
   ],
   "source": [
    "for s in p.strings:\n",
    "    print(repr(s))\n",
    "#for s in p.stripped_strings:\n",
    " #   print(repr(s))"
   ]
  },
  {
   "cell_type": "code",
   "execution_count": null,
   "metadata": {},
   "outputs": [],
   "source": []
  },
  {
   "cell_type": "code",
   "execution_count": 30,
   "metadata": {},
   "outputs": [],
   "source": [
    "#links"
   ]
  },
  {
   "cell_type": "code",
   "execution_count": 31,
   "metadata": {},
   "outputs": [
    {
     "data": {
      "text/plain": [
       "<a href=\"/wiki/Ventriloquism\" title=\"Ventriloquism\">Ventriloquism</a>"
      ]
     },
     "execution_count": 31,
     "metadata": {},
     "output_type": "execute_result"
    }
   ],
   "source": [
    "link=links[26]\n",
    "link"
   ]
  },
  {
   "cell_type": "code",
   "execution_count": 32,
   "metadata": {},
   "outputs": [
    {
     "data": {
      "text/plain": [
       "'Ventriloquism'"
      ]
     },
     "execution_count": 32,
     "metadata": {},
     "output_type": "execute_result"
    }
   ],
   "source": [
    "link.text"
   ]
  },
  {
   "cell_type": "code",
   "execution_count": 33,
   "metadata": {},
   "outputs": [
    {
     "data": {
      "text/plain": [
       "'/wiki/Ventriloquism'"
      ]
     },
     "execution_count": 33,
     "metadata": {},
     "output_type": "execute_result"
    }
   ],
   "source": [
    "link['href']"
   ]
  },
  {
   "cell_type": "code",
   "execution_count": 34,
   "metadata": {},
   "outputs": [],
   "source": [
    "from urllib.parse import urljoin"
   ]
  },
  {
   "cell_type": "code",
   "execution_count": 35,
   "metadata": {},
   "outputs": [
    {
     "data": {
      "text/plain": [
       "'https://en.wikipedia.org/wiki/Music'"
      ]
     },
     "execution_count": 35,
     "metadata": {},
     "output_type": "execute_result"
    }
   ],
   "source": [
    "base_site"
   ]
  },
  {
   "cell_type": "code",
   "execution_count": 36,
   "metadata": {},
   "outputs": [
    {
     "data": {
      "text/plain": [
       "'/wiki/Ventriloquism'"
      ]
     },
     "execution_count": 36,
     "metadata": {},
     "output_type": "execute_result"
    }
   ],
   "source": [
    "relative_url=link['href']\n",
    "relative_url"
   ]
  },
  {
   "cell_type": "code",
   "execution_count": 37,
   "metadata": {},
   "outputs": [
    {
     "data": {
      "text/plain": [
       "'https://en.wikipedia.org/wiki/Ventriloquism'"
      ]
     },
     "execution_count": 37,
     "metadata": {},
     "output_type": "execute_result"
    }
   ],
   "source": [
    "full_url=urljoin(base_site,relative_url)\n",
    "full_url"
   ]
  },
  {
   "cell_type": "code",
   "execution_count": null,
   "metadata": {},
   "outputs": [],
   "source": []
  },
  {
   "cell_type": "code",
   "execution_count": 38,
   "metadata": {},
   "outputs": [],
   "source": [
    "#[l.get('href') for l in links]"
   ]
  },
  {
   "cell_type": "code",
   "execution_count": 39,
   "metadata": {},
   "outputs": [],
   "source": [
    "clean_links=[l for l in links if l.get('href')!=None]\n",
    "#clean_links"
   ]
  },
  {
   "cell_type": "code",
   "execution_count": 40,
   "metadata": {},
   "outputs": [],
   "source": [
    "relative_links=[l.get('href') for l in clean_links]\n",
    "#relative_links"
   ]
  },
  {
   "cell_type": "code",
   "execution_count": 41,
   "metadata": {},
   "outputs": [],
   "source": [
    "full_urls=[urljoin(base_site,url)for url in relative_links]\n",
    "#full_urls\n",
    "#len(full_urls)"
   ]
  },
  {
   "cell_type": "code",
   "execution_count": 42,
   "metadata": {},
   "outputs": [],
   "source": [
    "internal_urls=[url for url in full_urls if 'wikipedia.org' in url]\n",
    "#internal_urls\n",
    "#len(internal_urls)"
   ]
  },
  {
   "cell_type": "code",
   "execution_count": null,
   "metadata": {},
   "outputs": [],
   "source": []
  },
  {
   "cell_type": "code",
   "execution_count": 43,
   "metadata": {},
   "outputs": [
    {
     "data": {
      "text/plain": [
       "[<div class=\"hatnote navigation-not-searchable\" role=\"note\">For other uses, see <a class=\"mw-disambig\" href=\"/wiki/Music_(disambiguation)\" title=\"Music (disambiguation)\">Music (disambiguation)</a>.</div>,\n",
       " <div class=\"hatnote navigation-not-searchable\" role=\"note\">Main article: <a href=\"/wiki/Musical_composition\" title=\"Musical composition\">Musical composition</a></div>,\n",
       " <div class=\"hatnote navigation-not-searchable\" role=\"note\">Main article: <a href=\"/wiki/Musical_notation\" title=\"Musical notation\">Musical notation</a></div>,\n",
       " <div class=\"hatnote navigation-not-searchable\" role=\"note\">Main article: <a href=\"/wiki/Musical_improvisation\" title=\"Musical improvisation\">Musical improvisation</a></div>,\n",
       " <div class=\"hatnote navigation-not-searchable\" role=\"note\">Main article: <a href=\"/wiki/Music_theory\" title=\"Music theory\">Music theory</a></div>,\n",
       " <div class=\"hatnote navigation-not-searchable\" role=\"note\">Main article: <a href=\"/wiki/Elements_of_music\" title=\"Elements of music\">Elements of music</a></div>,\n",
       " <div class=\"hatnote navigation-not-searchable\" role=\"note\">See also: <a href=\"/wiki/Strophic_form\" title=\"Strophic form\">Strophic form</a>, <a href=\"/wiki/Binary_form\" title=\"Binary form\">Binary form</a>, <a href=\"/wiki/Ternary_form\" title=\"Ternary form\">Ternary form</a>, <a class=\"mw-redirect\" href=\"/wiki/Rondo_form\" title=\"Rondo form\">Rondo form</a>, <a href=\"/wiki/Variation_(music)\" title=\"Variation (music)\">Variation (music)</a>, and <a class=\"mw-redirect\" href=\"/wiki/Musical_development\" title=\"Musical development\">Musical development</a></div>,\n",
       " <div class=\"hatnote navigation-not-searchable\" role=\"note\">Main article: <a href=\"/wiki/History_of_music\" title=\"History of music\">History of music</a></div>,\n",
       " <div class=\"hatnote navigation-not-searchable\" role=\"note\">Main article: <a href=\"/wiki/Music_of_Egypt\" title=\"Music of Egypt\">Music of Egypt</a></div>,\n",
       " <div class=\"hatnote navigation-not-searchable\" role=\"note\">Main article: <a href=\"/wiki/History_of_music_in_the_biblical_period\" title=\"History of music in the biblical period\">History of music in the biblical period</a></div>,\n",
       " <div class=\"hatnote navigation-not-searchable\" role=\"note\">Main article: <a class=\"mw-redirect\" href=\"/wiki/20th-century_music\" title=\"20th-century music\">20th-century music</a></div>,\n",
       " <div class=\"hatnote navigation-not-searchable\" role=\"note\">Further information: <a href=\"/wiki/Aesthetics_of_music\" title=\"Aesthetics of music\">Aesthetics of music</a></div>,\n",
       " <div class=\"hatnote navigation-not-searchable\" role=\"note\">Main article: <a href=\"/wiki/Neuroscience_of_music\" title=\"Neuroscience of music\">Neuroscience of music</a></div>,\n",
       " <div class=\"hatnote navigation-not-searchable\" role=\"note\">Further information: <a href=\"/wiki/Hearing\" title=\"Hearing\">Hearing</a></div>,\n",
       " <div class=\"hatnote navigation-not-searchable\" role=\"note\">Main article: <a href=\"/wiki/Culture_in_music_cognition\" title=\"Culture in music cognition\">Culture in music cognition</a></div>,\n",
       " <div class=\"hatnote navigation-not-searchable\" role=\"note\">See also: <a href=\"/wiki/Ethnomusicology\" title=\"Ethnomusicology\">Ethnomusicology</a></div>,\n",
       " <div class=\"hatnote navigation-not-searchable\" role=\"note\">Main article: <a href=\"/wiki/Sociomusicology\" title=\"Sociomusicology\">Sociomusicology</a></div>,\n",
       " <div class=\"hatnote navigation-not-searchable\" role=\"note\">Main article: <a href=\"/wiki/Women_in_music\" title=\"Women in music\">Women in music</a></div>,\n",
       " <div class=\"hatnote navigation-not-searchable\" role=\"note\">Further information: <a href=\"/wiki/Computer_music\" title=\"Computer music\">Computer music</a> and <a href=\"/wiki/Music_technology\" title=\"Music technology\">Music technology</a></div>,\n",
       " <div class=\"hatnote navigation-not-searchable\" role=\"note\">Main article: <a href=\"/wiki/Royalty_payment#Music_royalties\" title=\"Royalty payment\">Royalty payment § Music royalties</a></div>,\n",
       " <div class=\"hatnote navigation-not-searchable\" role=\"note\">Main article: <a href=\"/wiki/Music_education\" title=\"Music education\">Music education</a></div>,\n",
       " <div class=\"hatnote navigation-not-searchable\" role=\"note\">Main article: <a href=\"/wiki/Ethnomusicology\" title=\"Ethnomusicology\">Ethnomusicology</a></div>,\n",
       " <div class=\"hatnote navigation-not-searchable\" role=\"note\">Main articles: <a href=\"/wiki/Outline_of_music\" title=\"Outline of music\">Outline of music</a> and <a href=\"/wiki/Index_of_music_articles\" title=\"Index of music articles\">Index of music articles</a></div>]"
      ]
     },
     "execution_count": 43,
     "metadata": {},
     "output_type": "execute_result"
    }
   ],
   "source": [
    "div_notes=soup.find_all('div',role='note')\n",
    "div_notes"
   ]
  },
  {
   "cell_type": "code",
   "execution_count": 44,
   "metadata": {},
   "outputs": [
    {
     "data": {
      "text/plain": [
       "<a class=\"mw-disambig\" href=\"/wiki/Music_(disambiguation)\" title=\"Music (disambiguation)\">Music (disambiguation)</a>"
      ]
     },
     "execution_count": 44,
     "metadata": {},
     "output_type": "execute_result"
    }
   ],
   "source": [
    "div_notes[0].find('a')"
   ]
  },
  {
   "cell_type": "code",
   "execution_count": 45,
   "metadata": {},
   "outputs": [
    {
     "data": {
      "text/plain": [
       "[<a class=\"mw-disambig\" href=\"/wiki/Music_(disambiguation)\" title=\"Music (disambiguation)\">Music (disambiguation)</a>,\n",
       " <a href=\"/wiki/Musical_composition\" title=\"Musical composition\">Musical composition</a>,\n",
       " <a href=\"/wiki/Musical_notation\" title=\"Musical notation\">Musical notation</a>,\n",
       " <a href=\"/wiki/Musical_improvisation\" title=\"Musical improvisation\">Musical improvisation</a>,\n",
       " <a href=\"/wiki/Music_theory\" title=\"Music theory\">Music theory</a>,\n",
       " <a href=\"/wiki/Elements_of_music\" title=\"Elements of music\">Elements of music</a>,\n",
       " <a href=\"/wiki/Strophic_form\" title=\"Strophic form\">Strophic form</a>,\n",
       " <a href=\"/wiki/History_of_music\" title=\"History of music\">History of music</a>,\n",
       " <a href=\"/wiki/Music_of_Egypt\" title=\"Music of Egypt\">Music of Egypt</a>,\n",
       " <a href=\"/wiki/History_of_music_in_the_biblical_period\" title=\"History of music in the biblical period\">History of music in the biblical period</a>,\n",
       " <a class=\"mw-redirect\" href=\"/wiki/20th-century_music\" title=\"20th-century music\">20th-century music</a>,\n",
       " <a href=\"/wiki/Aesthetics_of_music\" title=\"Aesthetics of music\">Aesthetics of music</a>,\n",
       " <a href=\"/wiki/Neuroscience_of_music\" title=\"Neuroscience of music\">Neuroscience of music</a>,\n",
       " <a href=\"/wiki/Hearing\" title=\"Hearing\">Hearing</a>,\n",
       " <a href=\"/wiki/Culture_in_music_cognition\" title=\"Culture in music cognition\">Culture in music cognition</a>,\n",
       " <a href=\"/wiki/Ethnomusicology\" title=\"Ethnomusicology\">Ethnomusicology</a>,\n",
       " <a href=\"/wiki/Sociomusicology\" title=\"Sociomusicology\">Sociomusicology</a>,\n",
       " <a href=\"/wiki/Women_in_music\" title=\"Women in music\">Women in music</a>,\n",
       " <a href=\"/wiki/Computer_music\" title=\"Computer music\">Computer music</a>,\n",
       " <a href=\"/wiki/Royalty_payment#Music_royalties\" title=\"Royalty payment\">Royalty payment § Music royalties</a>,\n",
       " <a href=\"/wiki/Music_education\" title=\"Music education\">Music education</a>,\n",
       " <a href=\"/wiki/Ethnomusicology\" title=\"Ethnomusicology\">Ethnomusicology</a>,\n",
       " <a href=\"/wiki/Outline_of_music\" title=\"Outline of music\">Outline of music</a>]"
      ]
     },
     "execution_count": 45,
     "metadata": {},
     "output_type": "execute_result"
    }
   ],
   "source": [
    "div_links=[div.find('a') for div in div_notes ]\n",
    "div_links"
   ]
  },
  {
   "cell_type": "code",
   "execution_count": 46,
   "metadata": {},
   "outputs": [
    {
     "data": {
      "text/plain": [
       "<div class=\"hatnote navigation-not-searchable\" role=\"note\">See also: <a href=\"/wiki/Strophic_form\" title=\"Strophic form\">Strophic form</a>, <a href=\"/wiki/Binary_form\" title=\"Binary form\">Binary form</a>, <a href=\"/wiki/Ternary_form\" title=\"Ternary form\">Ternary form</a>, <a class=\"mw-redirect\" href=\"/wiki/Rondo_form\" title=\"Rondo form\">Rondo form</a>, <a href=\"/wiki/Variation_(music)\" title=\"Variation (music)\">Variation (music)</a>, and <a class=\"mw-redirect\" href=\"/wiki/Musical_development\" title=\"Musical development\">Musical development</a></div>"
      ]
     },
     "execution_count": 46,
     "metadata": {},
     "output_type": "execute_result"
    }
   ],
   "source": [
    "div_notes[6]\n",
    "#div_notes[6].find_all('a')"
   ]
  },
  {
   "cell_type": "code",
   "execution_count": 47,
   "metadata": {},
   "outputs": [
    {
     "data": {
      "text/plain": [
       "[<a class=\"mw-disambig\" href=\"/wiki/Music_(disambiguation)\" title=\"Music (disambiguation)\">Music (disambiguation)</a>,\n",
       " <a href=\"/wiki/Musical_composition\" title=\"Musical composition\">Musical composition</a>,\n",
       " <a href=\"/wiki/Musical_notation\" title=\"Musical notation\">Musical notation</a>,\n",
       " <a href=\"/wiki/Musical_improvisation\" title=\"Musical improvisation\">Musical improvisation</a>,\n",
       " <a href=\"/wiki/Music_theory\" title=\"Music theory\">Music theory</a>,\n",
       " <a href=\"/wiki/Elements_of_music\" title=\"Elements of music\">Elements of music</a>,\n",
       " <a href=\"/wiki/Strophic_form\" title=\"Strophic form\">Strophic form</a>,\n",
       " <a href=\"/wiki/Binary_form\" title=\"Binary form\">Binary form</a>,\n",
       " <a href=\"/wiki/Ternary_form\" title=\"Ternary form\">Ternary form</a>,\n",
       " <a class=\"mw-redirect\" href=\"/wiki/Rondo_form\" title=\"Rondo form\">Rondo form</a>,\n",
       " <a href=\"/wiki/Variation_(music)\" title=\"Variation (music)\">Variation (music)</a>,\n",
       " <a class=\"mw-redirect\" href=\"/wiki/Musical_development\" title=\"Musical development\">Musical development</a>,\n",
       " <a href=\"/wiki/History_of_music\" title=\"History of music\">History of music</a>,\n",
       " <a href=\"/wiki/Music_of_Egypt\" title=\"Music of Egypt\">Music of Egypt</a>,\n",
       " <a href=\"/wiki/History_of_music_in_the_biblical_period\" title=\"History of music in the biblical period\">History of music in the biblical period</a>,\n",
       " <a class=\"mw-redirect\" href=\"/wiki/20th-century_music\" title=\"20th-century music\">20th-century music</a>,\n",
       " <a href=\"/wiki/Aesthetics_of_music\" title=\"Aesthetics of music\">Aesthetics of music</a>,\n",
       " <a href=\"/wiki/Neuroscience_of_music\" title=\"Neuroscience of music\">Neuroscience of music</a>,\n",
       " <a href=\"/wiki/Hearing\" title=\"Hearing\">Hearing</a>,\n",
       " <a href=\"/wiki/Culture_in_music_cognition\" title=\"Culture in music cognition\">Culture in music cognition</a>,\n",
       " <a href=\"/wiki/Ethnomusicology\" title=\"Ethnomusicology\">Ethnomusicology</a>,\n",
       " <a href=\"/wiki/Sociomusicology\" title=\"Sociomusicology\">Sociomusicology</a>,\n",
       " <a href=\"/wiki/Women_in_music\" title=\"Women in music\">Women in music</a>,\n",
       " <a href=\"/wiki/Computer_music\" title=\"Computer music\">Computer music</a>,\n",
       " <a href=\"/wiki/Music_technology\" title=\"Music technology\">Music technology</a>,\n",
       " <a href=\"/wiki/Royalty_payment#Music_royalties\" title=\"Royalty payment\">Royalty payment § Music royalties</a>,\n",
       " <a href=\"/wiki/Music_education\" title=\"Music education\">Music education</a>,\n",
       " <a href=\"/wiki/Ethnomusicology\" title=\"Ethnomusicology\">Ethnomusicology</a>,\n",
       " <a href=\"/wiki/Outline_of_music\" title=\"Outline of music\">Outline of music</a>,\n",
       " <a href=\"/wiki/Index_of_music_articles\" title=\"Index of music articles\">Index of music articles</a>]"
      ]
     },
     "execution_count": 47,
     "metadata": {},
     "output_type": "execute_result"
    }
   ],
   "source": [
    "div_links=[]\n",
    "for div in div_notes:\n",
    "    anchors=div.find_all('a')\n",
    "    div_links.extend(anchors)\n",
    "div_links\n",
    "#len(div_links)"
   ]
  },
  {
   "cell_type": "code",
   "execution_count": 48,
   "metadata": {},
   "outputs": [
    {
     "data": {
      "text/plain": [
       "['https://en.wikipedia.org/wiki/Music_(disambiguation)',\n",
       " 'https://en.wikipedia.org/wiki/Musical_composition',\n",
       " 'https://en.wikipedia.org/wiki/Musical_notation',\n",
       " 'https://en.wikipedia.org/wiki/Musical_improvisation',\n",
       " 'https://en.wikipedia.org/wiki/Music_theory',\n",
       " 'https://en.wikipedia.org/wiki/Elements_of_music',\n",
       " 'https://en.wikipedia.org/wiki/Strophic_form',\n",
       " 'https://en.wikipedia.org/wiki/Binary_form',\n",
       " 'https://en.wikipedia.org/wiki/Ternary_form',\n",
       " 'https://en.wikipedia.org/wiki/Rondo_form',\n",
       " 'https://en.wikipedia.org/wiki/Variation_(music)',\n",
       " 'https://en.wikipedia.org/wiki/Musical_development',\n",
       " 'https://en.wikipedia.org/wiki/History_of_music',\n",
       " 'https://en.wikipedia.org/wiki/Music_of_Egypt',\n",
       " 'https://en.wikipedia.org/wiki/History_of_music_in_the_biblical_period',\n",
       " 'https://en.wikipedia.org/wiki/20th-century_music',\n",
       " 'https://en.wikipedia.org/wiki/Aesthetics_of_music',\n",
       " 'https://en.wikipedia.org/wiki/Neuroscience_of_music',\n",
       " 'https://en.wikipedia.org/wiki/Hearing',\n",
       " 'https://en.wikipedia.org/wiki/Culture_in_music_cognition',\n",
       " 'https://en.wikipedia.org/wiki/Ethnomusicology',\n",
       " 'https://en.wikipedia.org/wiki/Sociomusicology',\n",
       " 'https://en.wikipedia.org/wiki/Women_in_music',\n",
       " 'https://en.wikipedia.org/wiki/Computer_music',\n",
       " 'https://en.wikipedia.org/wiki/Music_technology',\n",
       " 'https://en.wikipedia.org/wiki/Royalty_payment#Music_royalties',\n",
       " 'https://en.wikipedia.org/wiki/Music_education',\n",
       " 'https://en.wikipedia.org/wiki/Ethnomusicology',\n",
       " 'https://en.wikipedia.org/wiki/Outline_of_music',\n",
       " 'https://en.wikipedia.org/wiki/Index_of_music_articles']"
      ]
     },
     "execution_count": 48,
     "metadata": {},
     "output_type": "execute_result"
    }
   ],
   "source": [
    "note_urls=[urljoin(base_site,url.get('href'))for url in div_links]\n",
    "note_urls"
   ]
  },
  {
   "cell_type": "code",
   "execution_count": null,
   "metadata": {},
   "outputs": [],
   "source": []
  },
  {
   "cell_type": "code",
   "execution_count": 49,
   "metadata": {},
   "outputs": [
    {
     "name": "stdout",
     "output_type": "stream",
     "text": [
      "URL#1:https://en.wikipedia.org/wiki/Music_(disambiguation)\n",
      "URL#2:https://en.wikipedia.org/wiki/Musical_composition\n",
      "URL#3:https://en.wikipedia.org/wiki/Musical_notation\n",
      "URL#4:https://en.wikipedia.org/wiki/Musical_improvisation\n",
      "URL#5:https://en.wikipedia.org/wiki/Music_theory\n",
      "URL#6:https://en.wikipedia.org/wiki/Elements_of_music\n",
      "URL#7:https://en.wikipedia.org/wiki/Strophic_form\n",
      "URL#8:https://en.wikipedia.org/wiki/Binary_form\n",
      "URL#9:https://en.wikipedia.org/wiki/Ternary_form\n",
      "URL#10:https://en.wikipedia.org/wiki/Rondo_form\n",
      "URL#11:https://en.wikipedia.org/wiki/Variation_(music)\n",
      "URL#12:https://en.wikipedia.org/wiki/Musical_development\n",
      "URL#13:https://en.wikipedia.org/wiki/History_of_music\n",
      "URL#14:https://en.wikipedia.org/wiki/Music_of_Egypt\n",
      "URL#15:https://en.wikipedia.org/wiki/History_of_music_in_the_biblical_period\n",
      "URL#16:https://en.wikipedia.org/wiki/20th-century_music\n",
      "URL#17:https://en.wikipedia.org/wiki/Aesthetics_of_music\n",
      "URL#18:https://en.wikipedia.org/wiki/Neuroscience_of_music\n",
      "URL#19:https://en.wikipedia.org/wiki/Hearing\n",
      "URL#20:https://en.wikipedia.org/wiki/Culture_in_music_cognition\n",
      "URL#21:https://en.wikipedia.org/wiki/Ethnomusicology\n",
      "URL#22:https://en.wikipedia.org/wiki/Sociomusicology\n",
      "URL#23:https://en.wikipedia.org/wiki/Women_in_music\n",
      "URL#24:https://en.wikipedia.org/wiki/Computer_music\n",
      "URL#25:https://en.wikipedia.org/wiki/Music_technology\n",
      "URL#26:https://en.wikipedia.org/wiki/Royalty_payment#Music_royalties\n",
      "URL#27:https://en.wikipedia.org/wiki/Music_education\n",
      "URL#28:https://en.wikipedia.org/wiki/Ethnomusicology\n",
      "URL#29:https://en.wikipedia.org/wiki/Outline_of_music\n",
      "URL#30:https://en.wikipedia.org/wiki/Index_of_music_articles\n"
     ]
    }
   ],
   "source": [
    "par_text=[]\n",
    "i=0\n",
    "for url in note_urls:\n",
    "    note_response=requests.get(url)\n",
    "    if(note_response.status_code==200):\n",
    "        print(\"URL#{0}:{1}\".format(i+1,url))\n",
    "    else:\n",
    "        print(\"ststus code{0}:skipping url#{1}:{2}\".format(note_response.status_code,i+1,url))\n",
    "        i=i+1\n",
    "        continue\n",
    "    note_html=note_response.content\n",
    "    note_soup=BeautifulSoup(note_html,'lxml')\n",
    "    note_pars=note_soup.find_all('p')\n",
    "    text=[p.text for p in note_pars]\n",
    "    par_text.append(text)\n",
    "    i=i+1"
   ]
  },
  {
   "cell_type": "code",
   "execution_count": 50,
   "metadata": {
    "scrolled": true
   },
   "outputs": [
    {
     "data": {
      "text/plain": [
       "['Music is an art form consisting of sound and silence, expressed through time.\\n',\n",
       " 'Music or The Music may also refer to:\\n']"
      ]
     },
     "execution_count": 50,
     "metadata": {},
     "output_type": "execute_result"
    }
   ],
   "source": [
    "par_text[0]"
   ]
  },
  {
   "cell_type": "code",
   "execution_count": 51,
   "metadata": {},
   "outputs": [
    {
     "data": {
      "text/plain": [
       "'Music is an art form consisting of sound and silence, expressed through time.\\nMusic or The Music may also refer to:\\n'"
      ]
     },
     "execution_count": 51,
     "metadata": {},
     "output_type": "execute_result"
    }
   ],
   "source": [
    "page_text=\"\".join(par_text[0])\n",
    "page_text"
   ]
  },
  {
   "cell_type": "code",
   "execution_count": 52,
   "metadata": {},
   "outputs": [],
   "source": [
    "page_text=[\"\".join(p)for p in par_text]\n",
    "#page_text"
   ]
  },
  {
   "cell_type": "code",
   "execution_count": 53,
   "metadata": {},
   "outputs": [],
   "source": [
    "url_to_text=dict(zip(note_urls,page_text))"
   ]
  },
  {
   "cell_type": "code",
   "execution_count": 54,
   "metadata": {},
   "outputs": [
    {
     "name": "stdout",
     "output_type": "stream",
     "text": [
      "\n",
      "Knowledge of the biblical period is mostly from literary references in the Bible and post-biblical sources. Religion and music historian Herbert Lockyer, Jr. writes that \"music, both vocal and instrumental, was well cultivated among the Hebrews, the New Testament Christians, and the Christian church through the centuries.\"[1] He adds that \"a look at the Old Testament reveals how God's ancient people were devoted to the study and practice of music, which holds a unique place in the historical and prophetic books, as well as the Psalter.\"\n",
      "The music of religious ritual was first used by King David: according to the Larousse Encyclopedia of Music, he is credited with confirming the men of the Tribe of Levi as the \"custodians of the music of the divine service\".[2] Historian Irene Hesk notes that of the thirty-nine books of the Old Testament, the 150 Psalms in the Book of Psalms ascribed to King David, have served as \"the bedrock of Judeo-Christian hymnology,\" concluding that \"no other poetry has been set to music more often in Western civilization.\"[3]\n",
      "The study of ancient musical instruments has been practiced for centuries with some researchers studying instruments from Israel dating to the biblical period.[4] Archaeological and written data have demonstrated clearly that music was an integral part of daily life in ancient Israel. Figurines and iconographic depictions show that people played chordophones and frame drums, and that the human voice was essential as women and men sang love songs along with laments for the deceased. Data also describes outdoor scenes of music and dancing in sometimes prophetic frenzies, often with carefully orchestrated and choreographed musicians and singers within specially built structures.[4]:106\n",
      "According to ancient music historian Theodore Burgh, \"If we were able to step into the . . . biblical period, we would find a culture filled with music . . . where people used music in their daily lives.\"[4] \"Such music was capable of expressing a great variety of moods and feelings or the broadly marked antitheses of joy and sorrow, hope and fear, faith and doubt. In fact, every shade and quality of sentiment are found in the wealth of songs and psalms and in the diverse melodies of the people.\"[1]:X\n",
      "Egypt was among the oldest cultures of the Near East and had a highly developed musical culture dating back to around 3000 BC. Egyptian sources, however, include only pictorial relics, some instruments, and a few literary records concerned with performance practices. On various pieces of sculpture there are reliefs of harpists and flutists taking part in religious ceremonies and social entertainments.\n",
      "A number of instruments have been identified as being used in Egypt, including the lyre (a type of harp), an oboe-like instrument, various drums from Asia, the lute and the sistrum (rattle). Murals showing singers and instrumentalist performing have also been found. According to music historian Homer Ulrich, it is likely that Egypt influenced the \"educational and ethical aspects of Greek music\".[5]:10 Stephen Batuk equally observed that the historical link of music was consummated during the week of creation where birds in the air make sounds which could be seen as music.[citation needed]\n",
      "Although records are minimal, it is known that between 3000 and 2300 BC organized temple music with singers existed in Sumer and Babylonia, the oldest cultural groups in Mesopotamia. Excavations have uncovered several musical instruments, including harps, lutes, double oboes, and a few others.\n",
      "Because of the political interrelations between the Hebrews and the Semitic nations of Babylonia, Assyria, and the Hittite empire, there were similarities between the Hebrew music of the Judean people and the others. Jewish music began in the early years of tribal life, and the \"references to music in the Bible are numerous,\" writes Ulrich.[5]:11 After the Hebrews established a kingdom in Israel, their musical activities were to increase substantially.\n",
      "According to music historian Avraham Sharon, \"probably the most important musical contribution of the ancient Hebrews was the elevation of the status of liturgical music in union with ritual ceremonies.\" He notes the \"high degree of musico-liturgical organization\" from the descriptive accounts of King Solomon's Temple, such as the 24 choral groups consisting of 288 musicians which took part in 21 weekly services.[6]\n",
      "Despite the similar instruments used by the Hebrews which were also used in neighboring cultures, including Phoenicia, Egypt, Assyria, and Greece, Sharon writes that \"it would be accurate to state that . . . it is in the particular uses of music—sacred and secular, ethical and aesthetical—that ancient Jewish music made a unique contribution.\"[6]\n",
      "Music historian John Stainer notes that the earlier relationship between Abraham and the Canaanites \"in all probability influenced future Hebrew music,\" and which probably caused his posterity to carry a certain amount of Assyrian music or musical instruments into Egypt. He adds that a stay of four centuries \"in so civilized a culture as Egypt must have largely added to their knowledge of the art.\"[7]:5\n",
      "1 Chronicles 25:1–31 lists and organises the skilled musicians who were to perform, or \"prophecy\", with cymbals, stringed instruments, and harps in the service of the Temple.\n",
      "Although the ancient music of the Psalms and the other Bible books (which were all chanted), is often thought to be lost, the Masoretic text of the Hebrew Bible contains cantillation marks indicating a melodic line for the words. Following the French archaeomusicologist Suzanne Haik-Vantoura, some authorities now argue that these cantillation marks date from temple times and record the music sung in the temple. Attempts have been made to decipher them in modern musical notation.[8]\n",
      "The musical traditions of the Temple were broken by the destruction of the First Temple and the exile of the Jews in Babylon during the 6th century BC. Hindley notes that most of the psalms seem to have been written in the years after the return of the Jews to Jerusalem. At this time too the practice of antiphonal singing between the cantor and the congregation seems to have become common.[2]\n",
      "The music of ancient Israel represents almost fourteen centuries of change, roughly from 1300 BC to 70 AD, when Titus' siege of Jerusalem took place. Stainer points out the lack of many artifacts during this period. He concludes that the \"sad lack of national monuments relating to the Jews is not surprising, when it is remembered that Jerusalem stood about seventeen sieges, each of which was accompanied by more or less destruction, and that, too, at the hands of victors who seemed to take a malicious delight in effacing the national characteristics of those they conquered.\"[7]:9\n",
      "However, after the fall of the First Temple, Werner states that the fabric of dreams spun about its earlier music included reminiscences, visions, and fantasies, as the Rabbis took pains to eradicate both its choral and instrumental traditions. \"Their time had arrived, and their ideas on liturgy and music were radically different from those of the Temple priests.\" Werner finds it paradoxical that modern day rabbis continue to praise the instrumental music of the Temple but prohibit any and all instrumental music in their synagogues today.[9]:18\n",
      "The destruction of the Second Temple in 70 AD led to the collapse of the Hebrew nation and the beginning of the Diaspora (dispersion or exile) of Jews to other lands, such as Spain, Italy, and the Rhineland. In these places, the synagogue would replace the destroyed Temple, with new liturgical services, prayers, and rabbinical writings oriented to mourning the loss of both the Temple and personal freedom.[6]\n",
      "Very little is known about primitive Christian music, notes Whitcomb, because like most of the ancient, it was unwritten. As a result, as songs passed from generation to generation, they grew very different from the original. However, she notes that \"much of this early music derived its beauty from the Greeks and its holiness from the Hebrews.\"[10] According to Ulrich, Hebrew music \"was of direct and immediate influence on the musical practices of the early Christian church.\"[5] He cites Werner in noting that \"the connections between Hebrew and Christian chant have been scientifically investigated and proved.\"[9]\n",
      "The musical art of the Levites, the Temple musicians who were named after their historic ancestors, was lost by the end of the 1st century. In 70 AD the Second Temple was destroyed by the troops of the Emperor Titus and in the years following the Levites along with the majority of Jews fled from Palestine. As a result, the synagogue music of the Dispersion lost the joyful character of that of the Temple and the large instrumental forces were dispensed with.[2]\n",
      "The New Testament was not written until centuries later than the old and the music had attained much higher development, according to music historian Ida Whitcomb. As it related to Christ, it is called Christian music. However, there are but few allusions to it in three of the Gospels: in the Gospel of Luke, there are the \"Angels' Song,\" Mary's \"Magnificat,\" and Zacharias's \"Song.\" In Acts, Paul and Silas sing behind prison-bars: the prison is shaken, the doors fly open, and they are free. In the Epistles, there are but few references to music, but in Ephesians there is a \"beautiful one,\" in which Paul exhorts the churches to sing \"Psalms\" and \"spiritual songs.\"[10]\n",
      "Hindley adds that antiphonal chants between cantor or priest and the congregation originated in Hebrew worship methods. At its peak around the beginning of the Christian era, the elaborate music of the Temple was performed by a large choir of highly trained men singers, with boys sometimes added, and during this period many instruments also were used by the Temple orchestra.[2]\n",
      "Whitcomb adds that many of our noblest Church hymns have been suggested by the Psalms, which she notes was \"the first hymn-book of the Hebrew nation and remains today not only the hymn-book of the Hebrew Temple, but also of the Christian Church\".[10]\n",
      "Among the earliest pictographic signs found have been of a boat-shaped harp found on a Sumerian clay tablet dating back to 3000 BC, and an earlier depiction of this harp was also found in modern southwest Iran dating around 3200 BC.[1]:45\n",
      "Many relics of musical instruments have been found in Palestine dating from the Hellenistic age giving details about the state, character, and practice of liturgical music.[9] In other cases, many musical instruments of the Hebrews mentioned in the Bible are identified by analogy with similar instruments found in other nearby cultures, such as Egypt and Babylonia. An example of some instruments mentioned in the bible can be found in Daniel 3:5:\n",
      "that when you hear the sound of the horn, pipe, lyre, trigon, harp, bagpipe, and every kind of music...According to Jewish historian Josephus Flavius, all details of the First Temple, including its musical instruments, were made and viewed as \"symbols of the universe\", especially instruments like the kithara or lyre. In his Antiquities of the Jews, Josephus explains that the musical instruments, along with other matters of Jewish religion, represent a perishable \"image\" of the cosmos, or of \"a cosmic Temple.\"[9]:1\n",
      "Lockyer notes that according to the Scriptures, Jubal was the father of harpists and organists (Gen. 4:20–21). He points out that the harp was among the chief instruments and the favorite of David, and its use is found more than fifty times in the Bible. It was used at both joyful and mournful ceremonies, and its use was \"raised to its highest perfection under David\" (1 Sam. 16:23). Lockyer adds that \"It was the sweet music of the harp that often dispossessed Saul of his melancholy (1 Sam. 16:14–23; 18:10–11).[1]:46 When the Jews were captive in Babylon they hung their harps up and refused to use them while in exile, earlier being part of the instruments used in the Temple (1 Kgs. 10:12).\n",
      "\n",
      "Another stringed instrument of the harp class, and one also used by the ancient Greeks, was the lyre. A similar instrument was the lute, which had a large pear-shaped body, long neck, and fretted fingerboard with head screws for tuning. Coins displaying musical instruments, Bar Kochba Revolt coinage, were issued by the Jews during the Second Jewish Revolt against the Roman Empire of 132–135 AD In addition to those, there was the psaltery, another stringed instrument which is referred to almost thirty times in Scripture. According to Josephus, it had twelve strings and was played with a quill, not with the hand. Another writer suggested that it was like a guitar, but with a flat triangular form and strung from side to side.[1]:49\n",
      "Among the wind instruments used in the biblical period were the cornet, flute, horn, organ, pipe, and trumpet.[1]:50\n",
      "There were also silver trumpets and the double oboe. Werner concludes that from the measurements taken of the trumpets on the Arch of Titus in Rome and from coins, that \"the trumpets were very high pitched with thin body and shrill sound\". He adds that in War of the Sons of Light Against the Sons of Darkness, a manual for military organization and strategy discovered among the Dead Sea Scrolls, these trumpets \"appear clearly capable of regulating their pitch pretty accurately, as they are supposed to blow rather complicated signals in unison.\"[9]:2\n",
      "Whitcomb writes that the pair of silver trumpets were fashioned according to Mosaic law and were probably among the trophies which the Emperor Titus brought to Rome when he conquered Jerusalem. She adds that on the Arch raised to the victorious Titus, \"there is a sculptured relief of these trumpets, showing their ancient form. (see photo)[10]\n",
      "The flute was commonly used for festal and mourning occasions, according to Whitcomb. \"Even the poorest Hebrew was obliged to employ two flute-players to perform at his wife's funeral.\"[10]\n",
      "The shofar (the horn of a ram) is still used for special liturgical purposes such as the Jewish New Year services in Jewish communities. As such, it is not considered a musical instrument but an instrument of theological symbolism which has been intentionally kept to its primitive character. In ancient times it was used for warning of danger, to announce the new moon or beginning of Sabbath, or to announce the death of a notable. \"In its strictly ritual usage it carried the cries of the multitude to God,\" writes Werner.[9]:12\n",
      "Among the percussion instruments were bells, cymbals, sistrum, tabret, hand drums, and tambourines.  Percussion instruments are those producing tones by being struck in various ways and have been used by bands and orchestras throughout history.[1]:59\n",
      "The tabret, or timbrel, was a small hand-drum used for festive occasions, and was considered a woman's instrument. In modern times it was often used by the Salvation Army. According to the Bible, when the children of Israel came out of Egypt and crossed the Red Sea, \"Miriam took a timbrel in her hands; and all the women went out after her with timbrels and with dance.\"[1]\n",
      "Whitcomb writes that \"much of the most beautiful music of the Bible is contained in the Psalms,\" and the word \"psalm\" comes from the Greek word meaning \"to sing, to strike lyre.\" The psalter or psaltery was one of the instruments which accompanied the Psalm.[10] The word soon came to signify any form of melody. The psalms were sung antiphonally or responsively, perhaps by the priest and congregation, or by two choruses.\n",
      "According to Shiloah, most of the customs and ceremonies mentioned earlier, such as weddings or other celebrations, were accompanied by music made by women and attests to the importance of women's songs. But there were many instances where women sang alone or with friends and family. \"The woman fortifies her spirit by singing to herself, and perhaps to her infant, who hears and absorbs the mother's confessions, longings, complaints, and dreams.\"  There were also \"mother-songs, soldier-songs, grass-widow-songs, orphan-songs, and woman's-trade-songs.\" According to some, writes Shiloah, women's songs existed because of the need to compensate for the ban against public participation of women in synagogue rituals.[11]\n",
      "Ancient music historian Joachim Braun notes that Philo had mentioned ritualist vigils near Alexandria, that included a meal and the singing of hymns by a double chorus as accompaniment to the processions and libations.[12]\n",
      "According to biblical historian Amnon Shiloah, dance was directly associated with music and was an important aspect of various events, although the actual dance movements are nowhere described in detail. There is meager evidence about dance when compared with a wider variety found in Egypt. However, there are many biblical descriptions of occasions that inspired dancing in biblical times.[11]:209\n",
      "In the Bible, Mishnah, and Talmud, dance is referred to in various contexts, and in Megido, the Negev, and other sites in Israel, recently found iconographic remnants show dancing figures. In Judg. 21:21, a festival is described during which it was customary to dance in the vineyards. Dancing was also associated with celebrations of military victories and for welcoming home heroes. In Exod. 15:20, Miriam and the other women burst into song and dance accompanied by drums to mark the parting of the Red Sea which saved the people of Israel; Jephtah's daughter danced to meet her father returning from victorious battles (Judg. 11:34); the women of Israel came out to dance before Saul and David upon their return from fighting the Philistines (1 Sam. 18:6); the king and his subjects were also inspired to dance when the Ark of the Covenant was brought up to Jerusalem (2 Sam. Ch. 6).[11]:210\n",
      "The Bible mentions many uses of music including songs of praise, songs of victory, songs of mourning, and above all the Psalms. Dances were also a common music expression along with the combination of singing with instrumental music. During later times there was also a purely vocal music which prevailed for a period.[5] According to Ulrich, music played an important part in both the secular and the religious life of the Hebrews. Kings and other leaders of the people were customarily acclaimed in songs and fanfares, and very elaborate musical services in the Temple, described in the Bible, were important parts of worship. There are, for instance, descriptions in the Bible of an orchestra consisting of nine lutes, two harps, and a cymbal.[5] In other parts there are accounts of all-women choirs combined with singing and dancing to the men's percussion accompaniment. Werner adds that the choir's repertoire consisted of psalms, canticles, and other poetic passages from Scripture, although it may have contained some noncanonical texts. The choice of psalms is said to have been determined by God's activities on the first seven days of creation, and the verses which allude to them.[9]:13\n",
      "Werner writes that \"unique in the history of music is the firm belief in the purifying and sin-atoning power of the Temple's music, ascribed to both chant and instruments.\"[9] The music had to be free from blemish or fault, and avoided magical elements. Even the High Priest's garment had symbolism: (Exod. 28:34–35): \"a golden bell and a pomegranate, round about on the skirts of the robe . . . and its sound shall be heard when he goes into the holy place before the Lord . . . \" According to Philo and Josephus, the bells represented symbols of cosmic harmony.[9]:10\n",
      "According to the text of the Mishna, the early musicians, both singers and instrumentalists, were strictly trained to be professional musicians with their average training lasting five years. Bible historian Alfred Sendrey notes a \"sudden and unexplained upsurge of large choirs and orchestras, consisting of thoroughly organized and trained musical groups, which would be virtually inconceivable without lengthy, methodical preparation.\" This has led some scholars to believe that the prophet Samuel was the patriarch of a school which taught not only prophets and holy men, but also sacred-rite musicians. This public music school, perhaps the earliest in recorded history, was not restricted to a priestly class—which is how the shepherd boy David appears on the scene as a minstrel to King Saul.\" :\"[13]\n",
      "Different types of music were also defined:[5]\n",
      "Musical notation in the modern sense did not exist during this period. However, the Hebrew alphabet allows for special symbols to indicate how the music was to be performed. The alphabet consists of consonants and half-consonants, and vowels are indicated by dots and dashes above and below letter symbols. In addition to the vowel signs, a number of other signs, called \"masoretic,\" refers not to single notes but to \"melodic particles or groups,\" writes Ulrich. These particles were handed down by oral tradition among singers for centuries and were first codified in the 16th century. Ulrich notes that the \"Dead Sea Scrolls contain signs similar to those in the liturgical script of early Christian sects . . . strengthening the conjecture that a common musical heritage is shared by the people of related cultures . . .\"[5]\n",
      "Music historian William Smoldon notes that despite the fact that instrumental music was not revived and used in the synagogue after the destruction of the Second Temple in 70 AD, (excluding the symbolic Shofar still used in orthodox communities,) \"the chant continued, and of late years research has made it increasingly clear that many of the forms and even melodic patterns of the Byzantine and Western Christian chants were adaptations from the music of the synagogues.\"[14]\n",
      "He also notes that after the collapse of the Western Roman Empire, the \"one steadfast feature was the Western Christian Church\" which was \"respected by the barbarians.\" He adds that there seems \"little doubt that the worship-music of the early Church, i.e. at such centres as Jerusalem, Damascus, Antioch and Alexandria, grew from materials . . . of Greek and Syrian origins, together with the service-chants of the Jewish synagogue.\"[14]:20\n",
      "The Psalms have been sung through all the ages up to the present. Whitcomb describes the importance of the Psalms:\n",
      "Lockyer writes that Charles V, the Holy Roman Emperor and champion of the pope, requested passages from his favorite psalm, Ps. 90, be read to him as he lay on his deathbed in September 1558. In that psalm, \"Moses contrasts the eternity of God with the transience of human life, and Moses ends his song with a prayer for God's forgiveness and favor.\"(Ps 90:1–6)[1]:21\n",
      "\n"
     ]
    }
   ],
   "source": [
    "print(url_to_text['https://en.wikipedia.org/wiki/History_of_music_in_the_biblical_period'])"
   ]
  },
  {
   "cell_type": "code",
   "execution_count": null,
   "metadata": {},
   "outputs": [],
   "source": []
  }
 ],
 "metadata": {
  "kernelspec": {
   "display_name": "Python 3",
   "language": "python",
   "name": "python3"
  },
  "language_info": {
   "codemirror_mode": {
    "name": "ipython",
    "version": 3
   },
   "file_extension": ".py",
   "mimetype": "text/x-python",
   "name": "python",
   "nbconvert_exporter": "python",
   "pygments_lexer": "ipython3",
   "version": "3.9.0"
  }
 },
 "nbformat": 4,
 "nbformat_minor": 4
}
